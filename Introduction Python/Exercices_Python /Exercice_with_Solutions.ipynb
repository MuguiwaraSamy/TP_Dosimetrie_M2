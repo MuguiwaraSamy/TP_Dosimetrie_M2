{
 "cells": [
  {
   "cell_type": "markdown",
   "metadata": {},
   "source": [
    "# **EXERCICE**\n",
    "\n",
    "### **Niveau debutant**\n",
    "\n",
    "Ces exercices sont fait pour ce vous familiarisé avec python et surtout la logique de création de code. \n",
    "\n",
    "*Pour demander à l'utilisateur d'entré une instruction utilisé :*\n",
    "\n",
    "```python\n",
    "maVariable= input(\"Ici je demande ce que je veux a l'utilisateur : \")\n",
    "``````"
   ]
  },
  {
   "cell_type": "markdown",
   "metadata": {},
   "source": [
    "**Exercice 1 : Calculatrice basique (Difficulté : 1)**\n",
    "\n",
    "Écrivez un programme qui permet à l'utilisateur d'entrer deux nombres et d'effectuer les opérations de base (addition, soustraction, multiplication et division) sur ces nombres.\n",
    "\n"
   ]
  },
  {
   "cell_type": "code",
   "execution_count": null,
   "metadata": {},
   "outputs": [],
   "source": [
    "# Demander à l'utilisateur d'entrer deux nombres\n",
    "nombre1 = float(input(\"Entrez le premier nombre : \"))\n",
    "nombre2 = float(input(\"Entrez le deuxième nombre : \"))\n",
    "\n",
    "# Demander à l'utilisateur de choisir une opération\n",
    "operation = input(\"Choisissez une opération (+, -, *, /) : \")\n",
    "\n",
    "# Calculer le résultat en fonction de l'opération choisie\n",
    "if operation == '+':\n",
    "    resultat = nombre1 + nombre2\n",
    "elif operation == '-':\n",
    "    resultat = nombre1 - nombre2\n",
    "elif operation == '*':\n",
    "    resultat = nombre1 * nombre2\n",
    "elif operation == '/':\n",
    "    if nombre2 == 0:\n",
    "        print(\"Erreur : Division par zéro.\")\n",
    "    else:\n",
    "        resultat = nombre1 / nombre2\n",
    "else:\n",
    "    print(\"Opération non valide.\")\n",
    "\n",
    "# Afficher le résultat\n",
    "print(\"Résultat :\", resultat)"
   ]
  },
  {
   "cell_type": "markdown",
   "metadata": {},
   "source": [
    "**Exercice 2 : Conjecture de Collatz (Difficulté : 2)**\n",
    "\n",
    "Écrivez un programme qui prend un nombre entier positif de l'utilisateur. Si le nombre est pair, divisez-le par 2. Si le nombre est impair, multipliez-le par 3 et ajoutez 1. Répétez cette opération jusqu'à ce que le nombre atteigne 1, puis affichez le nombre d'étapes nécessaires."
   ]
  },
  {
   "cell_type": "code",
   "execution_count": null,
   "metadata": {},
   "outputs": [],
   "source": [
    "# Demander à l'utilisateur de saisir un nombre entier positif\n",
    "nombre = int(input(\"Entrez un nombre entier positif : \"))\n",
    "\n",
    "# Initialiser le compteur d'étapes\n",
    "etapes = 0\n",
    "\n",
    "# Appliquer la conjecture de Collatz jusqu'à ce que le nombre atteigne 1\n",
    "while nombre != 1:\n",
    "    if nombre % 2 == 0:\n",
    "        nombre = nombre // 2\n",
    "    else:\n",
    "        nombre = 3 * nombre + 1\n",
    "    etapes += 1\n",
    "\n",
    "# Afficher le nombre d'étapes nécessaires\n",
    "print(\"Nombre d'étapes pour atteindre 1 :\", etapes)\n"
   ]
  },
  {
   "cell_type": "markdown",
   "metadata": {},
   "source": [
    "**Exercice 3 : Calcul de factorielle (Difficulté : 3)**\n",
    "\n",
    "Écrivez un programme qui demande à l'utilisateur d'entrer un nombre entier positif et calcule sa factorielle. La factorielle de n est le produit de tous les entiers de 1 à n."
   ]
  },
  {
   "cell_type": "code",
   "execution_count": null,
   "metadata": {},
   "outputs": [],
   "source": [
    "# Demander à l'utilisateur de saisir un nombre entier positif\n",
    "nombre = int(input(\"Entrez un nombre entier positif : \"))\n",
    "\n",
    "# Vérifier si le nombre est négatif\n",
    "if nombre < 0:\n",
    "    print(\"La factorielle n'est définie que pour les nombres positifs.\")\n",
    "else:\n",
    "    # Initialiser le résultat à 1\n",
    "    resultat = 1\n",
    "\n",
    "    # Calculer la factorielle en utilisant une boucle for\n",
    "    for i in range(1, nombre + 1):\n",
    "        resultat *= i\n",
    "\n",
    "    # Afficher le résultat\n",
    "    print(f\"La factorielle de {nombre} est {resultat}\")\n"
   ]
  },
  {
   "cell_type": "markdown",
   "metadata": {},
   "source": [
    "**Exercice 4 : Jeu de devinette (Difficulté : 4)**\n",
    "\n",
    "Créez un jeu où l'ordinateur génère un nombre aléatoire entre 1 et 100, et le joueur doit deviner ce nombre. L'ordinateur fournit des indices (plus grand ou plus petit) après chaque tentative."
   ]
  },
  {
   "cell_type": "code",
   "execution_count": null,
   "metadata": {},
   "outputs": [],
   "source": [
    "import random\n",
    "\n",
    "# Générer un nombre aléatoire entre 1 et 100\n",
    "nombre_secret = random.randint(1, 100)\n",
    "\n",
    "# Initialiser le compteur d'essais\n",
    "essais = 0\n",
    "\n",
    "print(\"Bienvenue dans le jeu de devinette !\")\n",
    "print(\"Devinez le nombre entre 1 et 100.\")\n",
    "\n",
    "while True:\n",
    "    # Demander au joueur de deviner le nombre\n",
    "    essais += 1\n",
    "    devinette = int(input(\"Entrez votre devinette : \"))\n",
    "\n",
    "    # Vérifier si la devinette est correcte\n",
    "    if devinette == nombre_secret:\n",
    "        print(f\"Félicitations ! Vous avez deviné le nombre en {essais} essais.\")\n",
    "        break\n",
    "    elif devinette < nombre_secret:\n",
    "        print(\"Le nombre secret est plus grand. Essayez encore.\")\n",
    "    else:\n",
    "        print(\"Le nombre secret est plus petit. Essayez encore.\")\n"
   ]
  },
  {
   "cell_type": "markdown",
   "metadata": {},
   "source": [
    "**Exercice 5 : Compteur de Mots (Difficulté : 2)**\n",
    "\n",
    "Demandez à l'utilisateur de saisir un texte, puis comptez le nombre de mots dans ce texte. Les mots sont séparés par des espaces."
   ]
  },
  {
   "cell_type": "code",
   "execution_count": null,
   "metadata": {},
   "outputs": [],
   "source": [
    "# Demander à l'utilisateur de saisir un texte\n",
    "texte = input(\"Entrez un texte : \")\n",
    "\n",
    "# Diviser le texte en mots en utilisant des espaces comme séparateurs\n",
    "mots = texte.split()\n",
    "\n",
    "# Compter le nombre de mots\n",
    "nombre_de_mots = len(mots)\n",
    "\n",
    "# Afficher le résultat\n",
    "print(\"Nombre de mots dans le texte :\", nombre_de_mots)\n"
   ]
  },
  {
   "cell_type": "markdown",
   "metadata": {},
   "source": [
    "\n",
    "**Exercice 6 : Recherche d'Élément dans une Liste (Difficulté : 3)**\n",
    "\n",
    "Créez un programme qui demande à l'utilisateur de saisir une liste et un élément, puis vérifie si l'élément est présent dans la liste."
   ]
  },
  {
   "cell_type": "code",
   "execution_count": null,
   "metadata": {},
   "outputs": [],
   "source": [
    "# Demander à l'utilisateur de saisir une liste d'éléments (séparés par des espaces)\n",
    "liste = input(\"Entrez une liste d'éléments (séparés par des espaces) : \").split()\n",
    "\n",
    "# Demander à l'utilisateur de saisir l'élément à rechercher\n",
    "element_recherche = input(\"Entrez l'élément à rechercher : \")\n",
    "\n",
    "# Initialiser une variable pour indiquer si l'élément a été trouvé\n",
    "trouve = False\n",
    "\n",
    "# Parcourir la liste et vérifier chaque élément\n",
    "for element in liste:\n",
    "    if element == element_recherche:\n",
    "        trouve = True\n",
    "        break\n",
    "\n",
    "# Afficher le résultat\n",
    "if trouve:\n",
    "    print(f\"L'élément '{element_recherche}' a été trouvé dans la liste.\")\n",
    "else:\n",
    "    print(f\"L'élément '{element_recherche}' n'a pas été trouvé dans la liste.\")\n"
   ]
  },
  {
   "cell_type": "markdown",
   "metadata": {},
   "source": [
    "**Exercice 7 : Jeu de Pierre-Papier-Ciseaux (Difficulté : 3)**\n",
    "\n",
    "Implémentez un jeu simple de Pierre-Papier-Ciseaux où l'utilisateur peut jouer contre l'ordinateur."
   ]
  },
  {
   "cell_type": "code",
   "execution_count": null,
   "metadata": {},
   "outputs": [],
   "source": [
    "import random\n",
    "\n",
    "# Fonction pour le choix de l'ordinateur\n",
    "def choix_ordinateur():\n",
    "    choix = random.choice([\"Pierre\", \"Papier\", \"Ciseaux\"])\n",
    "    return choix\n",
    "\n",
    "# Fonction pour déterminer le gagnant\n",
    "def determiner_gagnant(choix_joueur, choix_ordinateur):\n",
    "    if choix_joueur == choix_ordinateur:\n",
    "        return \"Match nul\"\n",
    "    elif (choix_joueur == \"Pierre\" and choix_ordinateur == \"Ciseaux\") or \\\n",
    "         (choix_joueur == \"Papier\" and choix_ordinateur == \"Pierre\") or \\\n",
    "         (choix_joueur == \"Ciseaux\" and choix_ordinateur == \"Papier\"):\n",
    "        return \"Vous avez gagné !\"\n",
    "    else:\n",
    "        return \"L'ordinateur a gagné.\"\n",
    "\n",
    "print(\"Bienvenue dans le jeu de Pierre-Papier-Ciseaux !\")\n",
    "print(\"Choisissez l'une des options : Pierre, Papier, Ciseaux.\")\n",
    "\n",
    "# Demander au joueur de faire un choix\n",
    "choix_joueur = input(\"Votre choix : \").capitalize()\n",
    "\n",
    "# Valider le choix du joueur\n",
    "if choix_joueur not in [\"Pierre\", \"Papier\", \"Ciseaux\"]:\n",
    "    print(\"Choix invalide. Veuillez choisir entre Pierre, Papier ou Ciseaux.\")\n",
    "else:\n",
    "    # Obtenir le choix de l'ordinateur\n",
    "    choix_ordi = choix_ordinateur()\n",
    "    print(f\"L'ordinateur a choisi : {choix_ordi}\")\n",
    "\n",
    "    # Déterminer le gagnant\n",
    "    resultat = determiner_gagnant(choix_joueur, choix_ordi)\n",
    "    print(resultat)\n"
   ]
  },
  {
   "cell_type": "markdown",
   "metadata": {},
   "source": [
    "**Exercice 8 : Liste des Nombres Premiers (Difficulté : 4)**\n",
    "\n",
    "Écrivez un programme qui génère une liste de tous les nombres premiers jusqu'à un nombre donné n."
   ]
  },
  {
   "cell_type": "code",
   "execution_count": null,
   "metadata": {},
   "outputs": [],
   "source": [
    "# Fonction pour vérifier si un nombre est premier\n",
    "def est_premier(nombre):\n",
    "    if nombre <= 1:\n",
    "        return False\n",
    "    elif nombre <= 3:\n",
    "        return True\n",
    "    elif nombre % 2 == 0 or nombre % 3 == 0:\n",
    "        return False\n",
    "    i = 5\n",
    "    while i * i <= nombre:\n",
    "        if nombre % i == 0 or nombre % (i + 2) == 0:\n",
    "            return False\n",
    "        i += 6\n",
    "    return True\n",
    "\n",
    "# Demander à l'utilisateur de saisir un nombre\n",
    "n = int(input(\"Entrez un nombre n : \"))\n",
    "\n",
    "# Initialiser une liste pour stocker les nombres premiers\n",
    "nombres_premiers = []\n",
    "\n",
    "# Trouver et ajouter les nombres premiers à la liste\n",
    "for nombre in range(2, n + 1):\n",
    "    if est_premier(nombre):\n",
    "        nombres_premiers.append(nombre)\n",
    "\n",
    "# Afficher la liste des nombres premiers\n",
    "print(f\"Les nombres premiers jusqu'à {n} sont :\")\n",
    "print(nombres_premiers)\n"
   ]
  }
 ],
 "metadata": {
  "kernelspec": {
   "display_name": "TP_dosi",
   "language": "python",
   "name": "python3"
  },
  "language_info": {
   "codemirror_mode": {
    "name": "ipython",
    "version": 3
   },
   "file_extension": ".py",
   "mimetype": "text/x-python",
   "name": "python",
   "nbconvert_exporter": "python",
   "pygments_lexer": "ipython3",
   "version": "3.11.5"
  },
  "orig_nbformat": 4
 },
 "nbformat": 4,
 "nbformat_minor": 2
}
