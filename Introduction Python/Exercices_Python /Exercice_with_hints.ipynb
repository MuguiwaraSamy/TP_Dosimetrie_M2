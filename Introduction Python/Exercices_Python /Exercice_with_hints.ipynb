{
 "cells": [
  {
   "cell_type": "markdown",
   "metadata": {},
   "source": [
    "**Exercice 1 : Calculatrice basique (Difficulté : 1)**\n",
    "Écrivez un programme qui permet à l'utilisateur d'entrer deux nombres et d'effectuer les opérations de base (addition, soustraction, multiplication et division) sur ces nombres.\n",
    "\n",
    "*Hint : Vous pouvez utiliser des instructions conditionnelles (if-elif-else) pour gérer différentes opérations mathématiques.*\n",
    "\n",
    "**Exercice 2 : Conjecture de Collatz (Difficulté : 2)**\n",
    "Écrivez un programme qui prend un nombre entier positif de l'utilisateur. Si le nombre est pair, divisez-le par 2. Si le nombre est impair, multipliez-le par 3 et ajoutez 1. Répétez cette opération jusqu'à ce que le nombre atteigne 1, puis affichez le nombre d'étapes nécessaires.\n",
    "\n",
    "*Hint : Utilisez une boucle while pour répéter l'opération jusqu'à ce que le nombre atteigne 1.*\n",
    "\n",
    "**Exercice 3 : Calcul de factorielle (Difficulté : 3)**\n",
    "Écrivez un programme qui demande à l'utilisateur d'entrer un nombre entier positif et calcule sa factorielle. La factorielle de n est le produit de tous les entiers de 1 à n.\n",
    "\n",
    "*Hint : Utilisez une boucle for pour calculer la factorielle.*\n",
    "\n",
    "**Exercice 4 : Jeu de devinette (Difficulté : 4)**\n",
    "Créez un jeu où l'ordinateur génère un nombre aléatoire entre 1 et 100, et le joueur doit deviner ce nombre. L'ordinateur fournit des indices (plus grand ou plus petit) après chaque tentative.\n",
    "\n",
    "*Hint : Utilisez des boucles et des conditions pour gérer les essais et les indices.*\n",
    "\n",
    "**Exercice 5 : Compteur de Mots (Difficulté : 2)**\n",
    "\n",
    "Demandez à l'utilisateur de saisir un texte, puis comptez le nombre de mots dans ce texte. Les mots sont séparés par des espaces.\n",
    "\n",
    "*Hint : Utiliser la fonction split pour separer les mots*\n",
    "\n",
    "**Exercice 6 : Recherche d'Élément dans une Liste (Difficulté : 3)**\n",
    "Créez un programme qui demande à l'utilisateur de saisir une liste et un élément, puis vérifie si l'élément est présent dans la liste.\n",
    "\n",
    "*Hint : Utilisez une boucle for pour parcourir la liste et vérifier chaque élément.*\n",
    "\n",
    "**Exercice 7 : Jeu de Pierre-Papier-Ciseaux (Difficulté : 3)**\n",
    "Implémentez un jeu simple de Pierre-Papier-Ciseaux où l'utilisateur peut jouer contre l'ordinateur.\n",
    "\n",
    "*Hint : Utilisez des fonctions pour générer le choix de l'ordinateur et déterminez le gagnant.*\n",
    "\n",
    "**Exercice 8 : Liste des Nombres Premiers (Difficulté : 4)**\n",
    "Écrivez un programme qui génère une liste de nombres premiers jusqu'à un nombre donné n. Les nombres premiers sont des nombres entiers supérieurs à 1 qui n'ont aucun diviseur autre que 1 et eux-mêmes.\n",
    "\n",
    "\n",
    "*Hint : Utilisez une fonction pour vérifier la primalité et ajoutez les nombres premiers à une liste.*\n",
    "\n",
    "**Exercice 9 : Convertisseur de Devises (Difficulté : 5)**\n",
    "Créez un programme qui permet à l'utilisateur de convertir une somme d'argent d'une devise à une autre en utilisant un taux de change donné.\n",
    "\n",
    "*Hint : Utilisez des variables pour stocker les taux de change et effectuer la conversion.*"
   ]
  },
  {
   "cell_type": "code",
   "execution_count": null,
   "metadata": {
    "vscode": {
     "languageId": "plaintext"
    }
   },
   "outputs": [],
   "source": []
  },
  {
   "cell_type": "markdown",
   "metadata": {},
   "source": []
  }
 ],
 "metadata": {
  "language_info": {
   "name": "python"
  },
  "orig_nbformat": 4
 },
 "nbformat": 4,
 "nbformat_minor": 2
}
