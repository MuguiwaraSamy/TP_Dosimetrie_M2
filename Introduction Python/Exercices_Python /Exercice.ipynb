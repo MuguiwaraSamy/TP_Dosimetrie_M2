{
 "cells": [
  {
   "cell_type": "markdown",
   "metadata": {},
   "source": [
    "# **EXERCICE**\n",
    "\n",
    "### **Niveau debutant**\n",
    "\n",
    "Ces exercices sont fait pour ce vous familiarisé avec python et surtout la logique de création de code. \n",
    "\n",
    "*Pour demander à l'utilisateur d'entré une instruction utilisé :*\n",
    "\n",
    "```python\n",
    "maVariable= input(\"Ici je demande ce que je veux a l'utilisateur : \")\n",
    "``````"
   ]
  },
  {
   "cell_type": "markdown",
   "metadata": {},
   "source": [
    "**Exercice 1 : Calculatrice basique (Difficulté : 1)**\n",
    "\n",
    "Écrivez un programme qui permet à l'utilisateur d'entrer deux nombres et d'effectuer les opérations de base (addition, soustraction, multiplication et division) sur ces nombres.\n",
    "\n"
   ]
  },
  {
   "cell_type": "code",
   "execution_count": null,
   "metadata": {},
   "outputs": [],
   "source": []
  },
  {
   "cell_type": "markdown",
   "metadata": {},
   "source": [
    "**Exercice 2 : Conjecture de Collatz (Difficulté : 2)**\n",
    "\n",
    "Écrivez un programme qui prend un nombre entier positif de l'utilisateur. Si le nombre est pair, divisez-le par 2. Si le nombre est impair, multipliez-le par 3 et ajoutez 1. Répétez cette opération jusqu'à ce que le nombre atteigne 1, puis affichez le nombre d'étapes nécessaires."
   ]
  },
  {
   "cell_type": "code",
   "execution_count": null,
   "metadata": {},
   "outputs": [],
   "source": []
  },
  {
   "cell_type": "markdown",
   "metadata": {},
   "source": [
    "**Exercice 3 : Calcul de factorielle (Difficulté : 3)**\n",
    "\n",
    "Écrivez un programme qui demande à l'utilisateur d'entrer un nombre entier positif et calcule sa factorielle. La factorielle de n est le produit de tous les entiers de 1 à n."
   ]
  },
  {
   "cell_type": "code",
   "execution_count": null,
   "metadata": {},
   "outputs": [],
   "source": []
  },
  {
   "cell_type": "markdown",
   "metadata": {},
   "source": [
    "**Exercice 4 : Jeu de devinette (Difficulté : 4)**\n",
    "\n",
    "Créez un jeu où l'ordinateur génère un nombre aléatoire entre 1 et 100, et le joueur doit deviner ce nombre. L'ordinateur fournit des indices (plus grand ou plus petit) après chaque tentative."
   ]
  },
  {
   "cell_type": "code",
   "execution_count": null,
   "metadata": {},
   "outputs": [],
   "source": []
  },
  {
   "cell_type": "markdown",
   "metadata": {},
   "source": [
    "**Exercice 5 : Compteur de Mots (Difficulté : 2)**\n",
    "\n",
    "Demandez à l'utilisateur de saisir un texte, puis comptez le nombre de mots dans ce texte. Les mots sont séparés par des espaces."
   ]
  },
  {
   "cell_type": "code",
   "execution_count": null,
   "metadata": {},
   "outputs": [],
   "source": []
  },
  {
   "cell_type": "markdown",
   "metadata": {},
   "source": [
    "\n",
    "**Exercice 6 : Recherche d'Élément dans une Liste (Difficulté : 3)**\n",
    "\n",
    "Créez un programme qui demande à l'utilisateur de saisir une liste et un élément, puis vérifie si l'élément est présent dans la liste."
   ]
  },
  {
   "cell_type": "code",
   "execution_count": null,
   "metadata": {},
   "outputs": [],
   "source": []
  },
  {
   "cell_type": "markdown",
   "metadata": {},
   "source": [
    "**Exercice 7 : Jeu de Pierre-Papier-Ciseaux (Difficulté : 3)**\n",
    "\n",
    "Implémentez un jeu simple de Pierre-Papier-Ciseaux où l'utilisateur peut jouer contre l'ordinateur."
   ]
  },
  {
   "cell_type": "code",
   "execution_count": null,
   "metadata": {},
   "outputs": [],
   "source": []
  },
  {
   "cell_type": "markdown",
   "metadata": {},
   "source": [
    "**Exercice 8 : Liste des Nombres Premiers (Difficulté : 4)**\n",
    "\n",
    "Écrivez un programme qui génère une liste de nombres premiers jusqu'à un nombre donné n. Les nombres premiers sont des nombres entiers supérieurs à 1 qui n'ont aucun diviseur autre que 1 et eux-mêmes.\n"
   ]
  },
  {
   "cell_type": "code",
   "execution_count": null,
   "metadata": {},
   "outputs": [],
   "source": []
  }
 ],
 "metadata": {
  "language_info": {
   "name": "python"
  },
  "orig_nbformat": 4
 },
 "nbformat": 4,
 "nbformat_minor": 2
}
