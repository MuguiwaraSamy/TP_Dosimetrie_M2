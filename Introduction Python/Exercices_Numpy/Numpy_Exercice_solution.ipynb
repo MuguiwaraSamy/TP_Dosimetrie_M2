{
 "cells": [
  {
   "cell_type": "markdown",
   "metadata": {},
   "source": [
    "## **Exercice Numpy**\n",
    "\n",
    "Voici une série de questions pour vous familiariser avec l'utilisation de la bibliothèque NumPy.\n",
    "\n",
    "### **Pour aller plus loin**\n",
    "\n",
    "Il existe un excellent entraînement collaboratif qui vous montrera de nombreuses facettes de NumPy. Ce GitHub, nommé \"numpy-100\", sera un excellent entraînement pour vous. Vous pouvez accéder au lien [ici](https://github.com/rougier/numpy-100).\n",
    "\n",
    "---"
   ]
  },
  {
   "cell_type": "markdown",
   "metadata": {},
   "source": [
    "#### **Création de tableaux**\n",
    "\n",
    "**Question 1**  \n",
    "Comment importez-vous la bibliothèque NumPy en Python ?"
   ]
  },
  {
   "cell_type": "code",
   "execution_count": 2,
   "metadata": {},
   "outputs": [],
   "source": [
    "# Pour importer la bibliothèque NumPy en Python, vous pouvez utiliser l'instruction suivante :\n",
    "import numpy as np\n"
   ]
  },
  {
   "cell_type": "markdown",
   "metadata": {},
   "source": [
    "**Question 2**  \n",
    "Comment créez-vous un tableau NumPy vide ?"
   ]
  },
  {
   "cell_type": "code",
   "execution_count": 3,
   "metadata": {},
   "outputs": [
    {
     "data": {
      "text/plain": [
       "array([[ 2.60605835e-31, -5.21211670e-31,  1.30302917e-31],\n",
       "       [-5.21211670e-31,  1.13363538e-30, -3.51817877e-31],\n",
       "       [ 1.30302917e-31, -3.51817877e-31,  2.01969522e-31]])"
      ]
     },
     "execution_count": 3,
     "metadata": {},
     "output_type": "execute_result"
    }
   ],
   "source": [
    "# Pour créer un tableau NumPy vide, vous pouvez utiliser la fonction numpy.empty() de la manière suivante :\n",
    "arr = np.empty(shape=(3, 3))  # Crée un tableau 3x3 vide\n",
    "arr"
   ]
  },
  {
   "cell_type": "markdown",
   "metadata": {},
   "source": [
    "**Question 3**  \n",
    "Comment créez-vous un tableau NumPy rempli de zéros ?"
   ]
  },
  {
   "cell_type": "code",
   "execution_count": 4,
   "metadata": {},
   "outputs": [
    {
     "data": {
      "text/plain": [
       "array([[0., 0., 0., 0.],\n",
       "       [0., 0., 0., 0.],\n",
       "       [0., 0., 0., 0.],\n",
       "       [0., 0., 0., 0.]])"
      ]
     },
     "execution_count": 4,
     "metadata": {},
     "output_type": "execute_result"
    }
   ],
   "source": [
    "# Pour créer un tableau NumPy rempli de zéros, utilisez la fonction numpy.zeros() :\n",
    "\n",
    "arr = np.zeros(shape=(4, 4))  # Crée un tableau 4x4 rempli de zéros\n",
    "arr"
   ]
  },
  {
   "cell_type": "markdown",
   "metadata": {},
   "source": [
    "**Question 4**  \n",
    "Comment créez-vous un tableau NumPy rempli de uns ?"
   ]
  },
  {
   "cell_type": "code",
   "execution_count": 5,
   "metadata": {},
   "outputs": [
    {
     "data": {
      "text/plain": [
       "array([[1., 1.],\n",
       "       [1., 1.]])"
      ]
     },
     "execution_count": 5,
     "metadata": {},
     "output_type": "execute_result"
    }
   ],
   "source": [
    "# Pour créer un tableau NumPy rempli de uns, utilisez la fonction numpy.ones() :\n",
    "\n",
    "arr = np.ones(shape=(2, 2))  # Crée un tableau 2x2 rempli de uns\n",
    "arr"
   ]
  },
  {
   "cell_type": "markdown",
   "metadata": {},
   "source": [
    "**Question 5**  \n",
    "Comment créez-vous un tableau NumPy rempli d'une valeur spécifique, par exemple 7 ?"
   ]
  },
  {
   "cell_type": "code",
   "execution_count": 6,
   "metadata": {},
   "outputs": [
    {
     "data": {
      "text/plain": [
       "array([[7, 7, 7],\n",
       "       [7, 7, 7],\n",
       "       [7, 7, 7]])"
      ]
     },
     "execution_count": 6,
     "metadata": {},
     "output_type": "execute_result"
    }
   ],
   "source": [
    "# Pour créer un tableau NumPy rempli d'une valeur spécifique, utilisez la fonction numpy.full() :\n",
    "arr = np.full(shape=(3, 3), fill_value=7)  # Crée un tableau 3x3 rempli de la valeur 7\n",
    "\n",
    "arr"
   ]
  },
  {
   "cell_type": "markdown",
   "metadata": {},
   "source": [
    "**Question 6**  \n",
    "Comment créez-vous un tableau NumPy à partir d'une liste Python existante ?"
   ]
  },
  {
   "cell_type": "code",
   "execution_count": 7,
   "metadata": {},
   "outputs": [
    {
     "data": {
      "text/plain": [
       "array([1, 2, 3, 4, 5])"
      ]
     },
     "execution_count": 7,
     "metadata": {},
     "output_type": "execute_result"
    }
   ],
   "source": [
    "# Vous pouvez créer un tableau NumPy à partir d'une liste Python existante en utilisant la fonction numpy.array() :\n",
    "\n",
    "my_list = [1, 2, 3, 4, 5]\n",
    "arr = np.array(my_list)  # Crée un tableau NumPy à partir de my_list\n",
    "arr"
   ]
  },
  {
   "cell_type": "markdown",
   "metadata": {},
   "source": [
    "**Question 7**  \n",
    "Pouvez-vous créer un tableau NumPy de dimensions 3x3 rempli de zéros ?"
   ]
  },
  {
   "cell_type": "code",
   "execution_count": 8,
   "metadata": {},
   "outputs": [
    {
     "data": {
      "text/plain": [
       "array([[0., 0., 0.],\n",
       "       [0., 0., 0.],\n",
       "       [0., 0., 0.]])"
      ]
     },
     "execution_count": 8,
     "metadata": {},
     "output_type": "execute_result"
    }
   ],
   "source": [
    "\n",
    "arr = np.zeros((3, 3))  # Crée un tableau 3x3 rempli de zéros\n",
    "arr"
   ]
  },
  {
   "cell_type": "markdown",
   "metadata": {},
   "source": [
    "**Question 8**  \n",
    "Comment créez-vous un tableau NumPy de valeurs aléatoires entre 0 et 1 ?"
   ]
  },
  {
   "cell_type": "code",
   "execution_count": 9,
   "metadata": {},
   "outputs": [
    {
     "data": {
      "text/plain": [
       "array([[0.17406893, 0.92316919, 0.72235354],\n",
       "       [0.73640279, 0.21250012, 0.48529363],\n",
       "       [0.26015115, 0.11409351, 0.96346349]])"
      ]
     },
     "execution_count": 9,
     "metadata": {},
     "output_type": "execute_result"
    }
   ],
   "source": [
    "# Pour créer un tableau NumPy de valeurs aléatoires entre 0 et 1, utilisez la fonction numpy.random.rand() :\n",
    "\n",
    "arr = np.random.rand(3, 3)  # Crée un tableau 3x3 de valeurs aléatoires entre 0 et 1\n",
    "arr"
   ]
  },
  {
   "cell_type": "markdown",
   "metadata": {},
   "source": [
    "**Question 9**  \n",
    "Comment obtenir la forme (shape) d'un tableau NumPy ?\n"
   ]
  },
  {
   "cell_type": "code",
   "execution_count": 10,
   "metadata": {},
   "outputs": [
    {
     "data": {
      "text/plain": [
       "(2, 3)"
      ]
     },
     "execution_count": 10,
     "metadata": {},
     "output_type": "execute_result"
    }
   ],
   "source": [
    "# Vous pouvez obtenir la forme d'un tableau NumPy en utilisant l'attribut .shape :\n",
    "\n",
    "arr = np.array([[1, 2, 3], [4, 5, 6]])\n",
    "shape = arr.shape  # Cela renverra la forme (shape) du tableau, par exemple, (2, 3) pour un tableau 2x3.\n",
    "shape"
   ]
  },
  {
   "cell_type": "markdown",
   "metadata": {},
   "source": [
    "---"
   ]
  },
  {
   "cell_type": "markdown",
   "metadata": {},
   "source": [
    "#### Manipulation de tableaux\n",
    "\n",
    "\n",
    "**Question 10**  \n",
    "Comment obtenir le nombre de dimensions d'un tableau NumPy ?"
   ]
  },
  {
   "cell_type": "code",
   "execution_count": 11,
   "metadata": {},
   "outputs": [
    {
     "data": {
      "text/plain": [
       "2"
      ]
     },
     "execution_count": 11,
     "metadata": {},
     "output_type": "execute_result"
    }
   ],
   "source": [
    "# Vous pouvez obtenir le nombre de dimensions d'un tableau NumPy en utilisant l'attribut .ndim :\n",
    "\n",
    "arr = np.array([[1, 2, 3], [4, 5, 6]])\n",
    "dimensions = arr.ndim  # Cela renverra le nombre de dimensions, par exemple, 2 pour un tableau 2D.\n",
    "dimensions"
   ]
  },
  {
   "cell_type": "markdown",
   "metadata": {},
   "source": [
    "**Question 11**  \n",
    "Comment obtenir le nombre total d'éléments dans un tableau NumPy ?"
   ]
  },
  {
   "cell_type": "code",
   "execution_count": 12,
   "metadata": {},
   "outputs": [
    {
     "data": {
      "text/plain": [
       "6"
      ]
     },
     "execution_count": 12,
     "metadata": {},
     "output_type": "execute_result"
    }
   ],
   "source": [
    "# Pour obtenir le nombre total d'éléments dans un tableau NumPy, utilisez l'attribut .size :\n",
    "\n",
    "arr = np.array([[1, 2, 3], [4, 5, 6]])\n",
    "total_elements = arr.size  # Cela renverra le nombre total d'éléments, par exemple, 6 pour un tableau 2x3.\n",
    "total_elements"
   ]
  },
  {
   "cell_type": "markdown",
   "metadata": {},
   "source": [
    "**Question 12**  \n",
    "Comment accédez-vous à un élément spécifique dans un tableau NumPy ?"
   ]
  },
  {
   "cell_type": "code",
   "execution_count": 13,
   "metadata": {},
   "outputs": [],
   "source": [
    "# Vous pouvez accéder à un élément spécifique dans un tableau NumPy en utilisant l'indexage :\n",
    "\n",
    "arr = np.array([[1, 2, 3], [4, 5, 6]])\n",
    "element = arr[0, 1]  # Cela renverra l'élément à la première ligne (index 0) et deuxième colonne (index 1), soit 2.\n"
   ]
  },
  {
   "cell_type": "markdown",
   "metadata": {},
   "source": [
    "**Question 13**  \n",
    "Comment extrayez-vous une tranche (slice) d'un tableau NumPy ?\n"
   ]
  },
  {
   "cell_type": "code",
   "execution_count": 14,
   "metadata": {},
   "outputs": [
    {
     "data": {
      "text/plain": [
       "array([2, 3, 4])"
      ]
     },
     "execution_count": 14,
     "metadata": {},
     "output_type": "execute_result"
    }
   ],
   "source": [
    "# Vous pouvez extraire une tranche d'un tableau NumPy en utilisant l'indexage par tranche :\n",
    "\n",
    "arr = np.array([1, 2, 3, 4, 5])\n",
    "sliced_arr = arr[1:4]  # Cela renverra une tranche de l'index 1 à l'index 3, soit [2, 3, 4].\n",
    "sliced_arr"
   ]
  },
  {
   "cell_type": "markdown",
   "metadata": {},
   "source": [
    "**Question 14**  \n",
    "Comment effectuez-vous une opération d'addition entre deux tableaux NumPy ?"
   ]
  },
  {
   "cell_type": "code",
   "execution_count": 15,
   "metadata": {},
   "outputs": [
    {
     "data": {
      "text/plain": [
       "array([5, 7, 9])"
      ]
     },
     "execution_count": 15,
     "metadata": {},
     "output_type": "execute_result"
    }
   ],
   "source": [
    "# Pour effectuer une opération d'addition entre deux tableaux NumPy, utilisez l'opérateur + :\n",
    "\n",
    "arr1 = np.array([1, 2, 3])\n",
    "arr2 = np.array([4, 5, 6])\n",
    "result = arr1 + arr2  # Cela renverra un nouveau tableau avec l'addition élément par élément.\n",
    "result"
   ]
  },
  {
   "cell_type": "markdown",
   "metadata": {},
   "source": [
    "**Question 15**  \n",
    "Comment effectuez-vous une opération de multiplication entre deux tableaux NumPy ?"
   ]
  },
  {
   "cell_type": "code",
   "execution_count": 16,
   "metadata": {},
   "outputs": [
    {
     "data": {
      "text/plain": [
       "array([ 4, 10, 18])"
      ]
     },
     "execution_count": 16,
     "metadata": {},
     "output_type": "execute_result"
    }
   ],
   "source": [
    "# Pour effectuer une opération de multiplication entre deux tableaux NumPy, utilisez l'opérateur * :\n",
    "\n",
    "arr1 = np.array([1, 2, 3])\n",
    "arr2 = np.array([4, 5, 6])\n",
    "result = arr1 * arr2  # Cela renverra un nouveau tableau avec la multiplication élément par élément.\n",
    "result"
   ]
  },
  {
   "cell_type": "markdown",
   "metadata": {},
   "source": [
    "**Question 16**  \n",
    "Comment effectuez-vous une opération de multiplication entre un tableau NumPy et un scalaire ?"
   ]
  },
  {
   "cell_type": "code",
   "execution_count": 17,
   "metadata": {},
   "outputs": [
    {
     "data": {
      "text/plain": [
       "array([ 5, 10, 15])"
      ]
     },
     "execution_count": 17,
     "metadata": {},
     "output_type": "execute_result"
    }
   ],
   "source": [
    "# Vous pouvez effectuer une opération de multiplication entre un tableau NumPy et un scalaire directement :\n",
    "\n",
    "arr = np.array([1, 2, 3])\n",
    "result = arr * 5  # Cela renverra un nouveau tableau avec chaque élément multiplié par 5.\n",
    "result"
   ]
  },
  {
   "cell_type": "markdown",
   "metadata": {},
   "source": [
    "**Question 17**  \n",
    "Comment trouvez-vous la valeur maximale dans un tableau NumPy ?"
   ]
  },
  {
   "cell_type": "code",
   "execution_count": 18,
   "metadata": {},
   "outputs": [
    {
     "data": {
      "text/plain": [
       "9"
      ]
     },
     "execution_count": 18,
     "metadata": {},
     "output_type": "execute_result"
    }
   ],
   "source": [
    "# Pour trouver la valeur maximale dans un tableau NumPy, utilisez la fonction numpy.max() :\n",
    "\n",
    "arr = np.array([4, 2, 9, 7, 5])\n",
    "max_value = np.max(arr)  # Cela renverra la valeur maximale dans le tableau, soit 9.\n",
    "max_value"
   ]
  },
  {
   "cell_type": "markdown",
   "metadata": {},
   "source": [
    "**Question 18**  \n",
    "Comment trouvez-vous la valeur minimale dans un tableau NumPy ?"
   ]
  },
  {
   "cell_type": "code",
   "execution_count": 19,
   "metadata": {},
   "outputs": [
    {
     "data": {
      "text/plain": [
       "2"
      ]
     },
     "execution_count": 19,
     "metadata": {},
     "output_type": "execute_result"
    }
   ],
   "source": [
    "# Pour trouver la valeur minimale dans un tableau NumPy, utilisez la fonction numpy.min() :\n",
    "\n",
    "arr = np.array([4, 2, 9, 7, 5])\n",
    "min_value = np.min(arr)  # Cela renverra la valeur minimale dans le tableau, soit 2.\n",
    "min_value"
   ]
  },
  {
   "cell_type": "markdown",
   "metadata": {},
   "source": [
    "**Question 19**  \n",
    "Comment trouvez-vous la somme des éléments d'un tableau NumPy ?"
   ]
  },
  {
   "cell_type": "code",
   "execution_count": 20,
   "metadata": {},
   "outputs": [
    {
     "data": {
      "text/plain": [
       "15"
      ]
     },
     "execution_count": 20,
     "metadata": {},
     "output_type": "execute_result"
    }
   ],
   "source": [
    "# Pour trouver la somme des éléments d'un tableau NumPy, utilisez la fonction numpy.sum() :\n",
    "\n",
    "arr = np.array([1, 2, 3, 4, 5])\n",
    "sum_value = np.sum(arr)  # Cela renverra la somme des éléments, soit 15.\n",
    "sum_value"
   ]
  },
  {
   "cell_type": "markdown",
   "metadata": {},
   "source": [
    "**Question 20**  \n",
    "Comment trouvez-vous la moyenne des éléments d'un tableau NumPy ?"
   ]
  },
  {
   "cell_type": "code",
   "execution_count": 21,
   "metadata": {},
   "outputs": [
    {
     "data": {
      "text/plain": [
       "3.0"
      ]
     },
     "execution_count": 21,
     "metadata": {},
     "output_type": "execute_result"
    }
   ],
   "source": [
    "# Pour trouver la moyenne des éléments d'un tableau NumPy, utilisez la fonction numpy.mean() :\n",
    "\n",
    "arr = np.array([1, 2, 3, 4, 5])\n",
    "mean_value = np.mean(arr)  # Cela renverra la moyenne des éléments, soit 3.0.\n",
    "mean_value"
   ]
  },
  {
   "cell_type": "markdown",
   "metadata": {},
   "source": [
    "---"
   ]
  },
  {
   "cell_type": "markdown",
   "metadata": {},
   "source": [
    "#### **Filtrage et indexation avancés**\n",
    "\n",
    "**Question 21**  \n",
    "Comment sélectionnez-vous toutes les valeurs supérieures à 5 dans un tableau NumPy ?"
   ]
  },
  {
   "cell_type": "code",
   "execution_count": 22,
   "metadata": {},
   "outputs": [
    {
     "data": {
      "text/plain": [
       "array([8, 6, 9])"
      ]
     },
     "execution_count": 22,
     "metadata": {},
     "output_type": "execute_result"
    }
   ],
   "source": [
    "# Vous pouvez sélectionner toutes les valeurs supérieures à 5 dans un tableau NumPy avec une condition booléenne :\n",
    "\n",
    "arr = np.array([3, 8, 1, 6, 9])\n",
    "selected_values = arr[arr > 5]  # Cela renverra un tableau avec les valeurs supérieures à 5.\n",
    "selected_values"
   ]
  },
  {
   "cell_type": "markdown",
   "metadata": {},
   "source": [
    "**Question 22**  \n",
    "Comment sélectionnez-vous toutes les valeurs d'un tableau NumPy qui sont égales à une valeur spécifique, par exemple 3 ?\n"
   ]
  },
  {
   "cell_type": "code",
   "execution_count": 23,
   "metadata": {},
   "outputs": [
    {
     "data": {
      "text/plain": [
       "array([3, 3])"
      ]
     },
     "execution_count": 23,
     "metadata": {},
     "output_type": "execute_result"
    }
   ],
   "source": [
    "# Vous pouvez sélectionner toutes les valeurs égales à 3 dans un tableau NumPy avec une condition booléenne :\n",
    "\n",
    "arr = np.array([3, 8, 1, 3, 6])\n",
    "selected_values = arr[arr == 3]  # Cela renverra un tableau avec les valeurs égales à 3.\n",
    "selected_values"
   ]
  },
  {
   "cell_type": "markdown",
   "metadata": {},
   "source": [
    "**Question 23**  \n",
    "Comment obtenez-vous les indices des valeurs supérieures à 10 dans un tableau NumPy ?"
   ]
  },
  {
   "cell_type": "code",
   "execution_count": 28,
   "metadata": {},
   "outputs": [
    {
     "name": "stdout",
     "output_type": "stream",
     "text": [
      "(array([1, 3]),)\n"
     ]
    },
    {
     "data": {
      "text/plain": [
       "array([5, 0, 2, 0, 8])"
      ]
     },
     "execution_count": 28,
     "metadata": {},
     "output_type": "execute_result"
    }
   ],
   "source": [
    "# Pour obtenir les indices des valeurs supérieures à 10 dans un tableau NumPy, utilisez la fonction numpy.where() :\n",
    "\n",
    "arr = np.array([5, 15, 2, 12, 8])\n",
    "indices = np.where(arr > 10)  # Cela renverra un tableau d'indices où les valeurs sont supérieures à 10.\n",
    "print(indices)\n",
    "\n",
    "# On peut aussi changer les valeurs d'un tableau NumPy en utilisantnp.where() :\n",
    "arr1 = np.where(arr > 10, 0, arr)  # Cela renverra un tableau avec les valeurs supérieures à 10 remplacées par 0 .\n",
    "arr1"
   ]
  },
  {
   "cell_type": "markdown",
   "metadata": {},
   "source": [
    "**Question 24**  \n",
    "Comment changez-vous la valeur de tous les éléments d'un tableau NumPy qui sont inférieurs à 0 par 0 ?"
   ]
  },
  {
   "cell_type": "code",
   "execution_count": null,
   "metadata": {},
   "outputs": [],
   "source": [
    "# Vous pouvez changer la valeur des éléments inférieurs à 0 à 0 en utilisant une condition booléenne :\n",
    "\n",
    "arr = np.array([1, -2, 3, -4, 5])\n",
    "arr[arr < 0] = 0  # Cela mettra à zéro tous les éléments négatifs dans le tableau.\n",
    "arr"
   ]
  },
  {
   "cell_type": "markdown",
   "metadata": {},
   "source": [
    "**Question 25**  \n",
    "Comment obtenez-vous un nouveau tableau NumPy contenant uniquement les éléments uniques d'un tableau existant ?"
   ]
  },
  {
   "cell_type": "code",
   "execution_count": null,
   "metadata": {},
   "outputs": [],
   "source": [
    "# Pour obtenir un nouveau tableau NumPy avec des éléments uniques, utilisez la fonction numpy.unique() :\n",
    "arr = np.array([1, 2, 2, 3, 3, 4, 4, 5])\n",
    "unique_values = np.unique(arr)  # Cela renverra un tableau avec les éléments uniques, [1, 2, 3, 4, 5].\n",
    "unique_values"
   ]
  },
  {
   "cell_type": "markdown",
   "metadata": {},
   "source": [
    "---"
   ]
  },
  {
   "cell_type": "markdown",
   "metadata": {},
   "source": [
    "#### **Opérations mathématiques**\n",
    "\n",
    "**Question 26**  \n",
    "Comment effectuez-vous une opération puissance sur tous les éléments d'un tableau NumPy ?\n"
   ]
  },
  {
   "cell_type": "code",
   "execution_count": null,
   "metadata": {},
   "outputs": [],
   "source": [
    "# Pour effectuer une opération d'exponentiation sur tous les éléments d'un tableau NumPy, utilisez la fonction numpy.power() :\n",
    "\n",
    "arr = np.array([2, 3, 4])\n",
    "exponentiated_arr = np.power(arr, 2)  # Élève chaque élément au carré.\n",
    "exponentiated_arr"
   ]
  },
  {
   "cell_type": "markdown",
   "metadata": {},
   "source": [
    "**Question 27**  \n",
    "Comment effectuez-vous une opération de racine carrée sur tous les éléments d'un tableau NumPy ?"
   ]
  },
  {
   "cell_type": "code",
   "execution_count": null,
   "metadata": {},
   "outputs": [],
   "source": [
    "# Vous pouvez effectuer une opération de racine carrée sur tous les éléments d'un tableau NumPy en utilisant la fonction numpy.sqrt() :\n",
    "\n",
    "arr = np.array([4, 9, 16])\n",
    "sqrt_arr = np.sqrt(arr)  # Cela renverra la racine carrée de chaque élément.\n",
    "sqrt_arr"
   ]
  },
  {
   "cell_type": "markdown",
   "metadata": {},
   "source": [
    "**Question 28**  \n",
    "Comment effectuez-vous une opération de calcul logarithmique sur tous les éléments d'un tableau NumPy ?"
   ]
  },
  {
   "cell_type": "code",
   "execution_count": null,
   "metadata": {},
   "outputs": [],
   "source": [
    "# Pour effectuer une opération de calcul logarithmique sur tous les éléments d'un tableau NumPy, utilisez la fonction numpy.log() :\n",
    "\n",
    "arr = np.array([1, 10, 100])\n",
    "log_arr = np.log(arr)  # Cela renverra le logarithme naturel de chaque élément.\n",
    "log_arr"
   ]
  },
  {
   "cell_type": "markdown",
   "metadata": {},
   "source": [
    "**Question 29**  \n",
    "Comment effectuez-vous une opération de calcul de la moyenne mobile sur un tableau NumPy ?"
   ]
  },
  {
   "cell_type": "code",
   "execution_count": null,
   "metadata": {},
   "outputs": [],
   "source": [
    "# Pour effectuer une opération de calcul de la moyenne mobile sur un tableau NumPy, vous pouvez utiliser la fonction numpy.convolve() :\n",
    "\n",
    "arr = np.array([1, 2, 3, 4, 5])\n",
    "window = np.array([0.25, 0.5, 0.25])  # Fenêtre de moyenne mobile\n",
    "result = np.convolve(arr, window, mode='valid')  # Calcule la moyenne mobile sur le tableau.\n",
    "result"
   ]
  },
  {
   "cell_type": "markdown",
   "metadata": {},
   "source": [
    "**Question 30**  \n",
    "Comment arrondissez-vous tous les éléments d'un tableau NumPy à deux décimales ?\n"
   ]
  },
  {
   "cell_type": "code",
   "execution_count": null,
   "metadata": {},
   "outputs": [],
   "source": [
    "# Vous pouvez arrondir tous les éléments d'un tableau NumPy à deux décimales en utilisant la fonction numpy.round() :\n",
    "\n",
    "arr = np.array([1.2345, 2.5678, 3.7890])\n",
    "rounded_arr = np.round(arr, decimals=2)  # Cela renverra un tableau avec des éléments arrondis à deux décimales.\n",
    "rounded_arr"
   ]
  },
  {
   "cell_type": "markdown",
   "metadata": {},
   "source": [
    "---"
   ]
  },
  {
   "cell_type": "markdown",
   "metadata": {},
   "source": [
    "#### **Combinaison de tableaux**\n",
    "\n",
    "**Question 31**  \n",
    "Comment concaténez-vous deux tableaux NumPy horizontalement (côte à côte) ?"
   ]
  },
  {
   "cell_type": "code",
   "execution_count": null,
   "metadata": {},
   "outputs": [],
   "source": [
    "# Pour concaténer deux tableaux NumPy horizontalement, utilisez la fonction numpy.hstack() :\n",
    "\n",
    "arr1 = np.array([1, 2, 3])\n",
    "arr2 = np.array([4, 5, 6])\n",
    "concatenated_arr = np.hstack((arr1, arr2))  # Concatène les deux tableaux horizontalement.\n",
    "concatenated_arr"
   ]
  },
  {
   "cell_type": "markdown",
   "metadata": {},
   "source": [
    "**Question 32**  \n",
    "Comment concaténez-vous deux tableaux NumPy verticalement (l'un au-dessus de l'autre) ?"
   ]
  },
  {
   "cell_type": "code",
   "execution_count": null,
   "metadata": {},
   "outputs": [],
   "source": [
    "# Pour concaténer deux tableaux NumPy verticalement, utilisez la fonction numpy.vstack() :\n",
    "\n",
    "arr1 = np.array([1, 2, 3])\n",
    "arr2 = np.array([4, 5, 6])\n",
    "concatenated_arr = np.vstack((arr1, arr2))  # Concatène les deux tableaux verticalement.\n",
    "concatenated_arr"
   ]
  },
  {
   "cell_type": "markdown",
   "metadata": {},
   "source": [
    "**Question 33**  \n",
    "Comment fusionnez-vous deux tableaux NumPy en supprimant les doublons ?"
   ]
  },
  {
   "cell_type": "code",
   "execution_count": null,
   "metadata": {},
   "outputs": [],
   "source": [
    "# Pour fusionner deux tableaux NumPy en supprimant les doublons, utilisez la fonction numpy.union1d() :\n",
    "\n",
    "arr1 = np.array([1, 2, 3])\n",
    "arr2 = np.array([3, 4, 5])\n",
    "merged_arr = np.union1d(arr1, arr2)  # Fusionne les tableaux en supprimant les doublons.\n",
    "merged_arr"
   ]
  },
  {
   "cell_type": "markdown",
   "metadata": {},
   "source": [
    "**Question 34**  \n",
    "Comment effectuez-vous une concatenation de deux tableaux NumPy ?"
   ]
  },
  {
   "cell_type": "code",
   "execution_count": 30,
   "metadata": {},
   "outputs": [
    {
     "data": {
      "text/plain": [
       "array([1, 2, 3, 4, 5, 6])"
      ]
     },
     "execution_count": 30,
     "metadata": {},
     "output_type": "execute_result"
    }
   ],
   "source": [
    "arr1 = np.array([1, 2, 3])\n",
    "arr2 = np.array([4, 5, 6])\n",
    "concatenated_arr = np.concatenate((arr1, arr2))  # Concatène les deux tableaux verticalement.\n",
    "concatenated_arr"
   ]
  },
  {
   "cell_type": "markdown",
   "metadata": {},
   "source": [
    "#### **Statistiques descriptives**\n",
    "\n",
    "**Question 35**  \n",
    "Comment calculez-vous l'écart type d'un tableau NumPy ?\n"
   ]
  },
  {
   "cell_type": "code",
   "execution_count": null,
   "metadata": {},
   "outputs": [],
   "source": [
    "# Pour calculer l'écart type d'un tableau NumPy, utilisez la fonction numpy.std() :\n",
    "\n",
    "arr = np.array([2, 4, 6, 8, 10])\n",
    "std_deviation = np.std(arr)  # Cela renverra l'écart type du tableau.\n"
   ]
  },
  {
   "cell_type": "markdown",
   "metadata": {},
   "source": [
    "**Question 36**  \n",
    "Comment calculez-vous la médiane d'un tableau NumPy ?"
   ]
  },
  {
   "cell_type": "code",
   "execution_count": null,
   "metadata": {},
   "outputs": [],
   "source": [
    "# Pour calculer la médiane d'un tableau NumPy, utilisez la fonction numpy.median() :\n",
    "\n",
    "arr = np.array([5, 2, 8, 1, 7])\n",
    "median_value = np.median(arr)  # Cela renverra la médiane du tableau.\n",
    "median_value"
   ]
  },
  {
   "cell_type": "markdown",
   "metadata": {},
   "source": [
    "**Question 37**  \n",
    "Comment calculez-vous la variance d'un tableau NumPy ?\n"
   ]
  },
  {
   "cell_type": "code",
   "execution_count": null,
   "metadata": {},
   "outputs": [],
   "source": [
    "# Pour calculer la variance d'un tableau NumPy, utilisez la fonction numpy.var() :\n",
    "\n",
    "arr = np.array([2, 4, 6, 8, 10])\n",
    "variance = np.var(arr)  # Cela renverra la variance du tableau.\n"
   ]
  },
  {
   "cell_type": "markdown",
   "metadata": {},
   "source": [
    "**Question 38**  \n",
    "Comment calculez-vous la corrélation entre deux tableaux NumPy ?\n"
   ]
  },
  {
   "cell_type": "code",
   "execution_count": null,
   "metadata": {},
   "outputs": [],
   "source": [
    "# Pour calculer la corrélation entre deux tableaux NumPy, utilisez la fonction numpy.corrcoef() :\n",
    "\n",
    "arr1 = np.array([1, 2, 3, 4, 5])\n",
    "arr2 = np.array([5, 4, 3, 2, 1])\n",
    "correlation = np.corrcoef(arr1, arr2)  # Cela renverra la matrice de corrélation entre les deux tableaux.\n"
   ]
  },
  {
   "cell_type": "markdown",
   "metadata": {},
   "source": [
    "#### **Sauvegarde et chargement de tableaux**\n",
    "\n",
    "**Question 39**  \n",
    "Comment sauvegardez-vous un tableau NumPy dans un fichier ?\n"
   ]
  },
  {
   "cell_type": "code",
   "execution_count": null,
   "metadata": {},
   "outputs": [],
   "source": [
    "# Pour sauvegarder un tableau NumPy dans un fichier, utilisez la fonction numpy.save() :\n",
    "\n",
    "arr = np.array([1, 2, 3, 4, 5])\n",
    "np.save('mon_tableau.npy', arr)  # Cela sauvegardera le tableau dans un fichier appelé \"mon_tableau.npy\".\n"
   ]
  },
  {
   "cell_type": "markdown",
   "metadata": {},
   "source": [
    "**Question 40**  \n",
    "Comment chargez-vous un tableau NumPy à partir d'un fichier ?"
   ]
  },
  {
   "cell_type": "code",
   "execution_count": null,
   "metadata": {},
   "outputs": [],
   "source": [
    "# Pour charger un tableau NumPy à partir d'un fichier, utilisez la fonction numpy.load() :\n",
    "\n",
    "loaded_arr = np.load('mon_tableau.npy')  # Cela chargera le tableau depuis le fichier \"mon_tableau.npy\".\n"
   ]
  },
  {
   "cell_type": "markdown",
   "metadata": {},
   "source": [
    "#### **Manipulation avancée**\n",
    "\n",
    "**Question 41**  \n",
    "Comment inversez-vous l'ordre des éléments dans un tableau NumPy ?"
   ]
  },
  {
   "cell_type": "code",
   "execution_count": 31,
   "metadata": {},
   "outputs": [
    {
     "data": {
      "text/plain": [
       "(array([5, 4, 3, 2, 1]), array([5, 4, 3, 2, 1]))"
      ]
     },
     "execution_count": 31,
     "metadata": {},
     "output_type": "execute_result"
    }
   ],
   "source": [
    "# Vous pouvez inverser l'ordre des éléments dans un tableau NumPy en utilisant l'indexage inversé :\n",
    "import numpy as np\n",
    "arr = np.array([1, 2, 3, 4, 5])\n",
    "reversed_arr = arr[::-1]  # Cela renverra le tableau avec les éléments dans l'ordre inverse.\n",
    "other = np.flip(arr)\n",
    "reversed_arr,other"
   ]
  },
  {
   "cell_type": "markdown",
   "metadata": {},
   "source": [
    "**Question 42**  \n",
    "Comment transposerez-vous un tableau NumPy ?"
   ]
  },
  {
   "cell_type": "code",
   "execution_count": null,
   "metadata": {},
   "outputs": [],
   "source": [
    "# Pour transposer un tableau NumPy, utilisez l'attribut .T :\n",
    "\n",
    "arr = np.array([[1, 2], [3, 4]])\n",
    "transposed_arr = arr.T  # Cela renverra le tableau transposé.\n"
   ]
  },
  {
   "cell_type": "markdown",
   "metadata": {},
   "source": [
    "**Question 43**  \n",
    "Comment redimensionnez-vous un tableau NumPy ?"
   ]
  },
  {
   "cell_type": "code",
   "execution_count": null,
   "metadata": {},
   "outputs": [],
   "source": [
    "# Vous pouvez redimensionner un tableau NumPy en utilisant la fonction numpy.reshape() :\n",
    "\n",
    "arr = np.array([1, 2, 3, 4, 5, 6])\n",
    "reshaped_arr = arr.reshape(2, 3)  # Cela redimensionnera le tableau en une forme de 2x3.\n"
   ]
  },
  {
   "cell_type": "markdown",
   "metadata": {},
   "source": [
    "**Question 44**  \n",
    "Comment remplacez-vous toutes les valeurs NaN dans un tableau NumPy par une valeur spécifique ?"
   ]
  },
  {
   "cell_type": "code",
   "execution_count": null,
   "metadata": {},
   "outputs": [],
   "source": [
    "# Pour remplacer toutes les valeurs NaN (Not a Number) dans un tableau NumPy par une valeur spécifique, utilisez la fonction numpy.nan_to_num() :\n",
    "\n",
    "arr = np.array([1.0, np.nan, 2.0, np.nan, 3.0])\n",
    "replaced_arr = np.nan_to_num(arr, nan=0.0)  # Cela remplacera les NaN par 0.0.\n"
   ]
  },
  {
   "cell_type": "markdown",
   "metadata": {},
   "source": [
    "**Question 45**  \n",
    "Comment supprimez-vous toutes les valeurs NaN d'un tableau NumPy ?\n"
   ]
  },
  {
   "cell_type": "code",
   "execution_count": null,
   "metadata": {},
   "outputs": [],
   "source": [
    "# Pour supprimer toutes les valeurs NaN d'un tableau NumPy, utilisez la fonction numpy.isnan() et l'indexage booléen :\n",
    "\n",
    "arr = np.array([1.0, np.nan, 2.0, np.nan, 3.0])\n",
    "cleaned_arr = arr[~np.isnan(arr)]  # Cela supprimera les valeurs NaN du tableau.\n"
   ]
  },
  {
   "cell_type": "markdown",
   "metadata": {},
   "source": [
    "**Question 46**  \n",
    "Comment triez-vous un tableau NumPy par ordre croissant ?"
   ]
  },
  {
   "cell_type": "code",
   "execution_count": null,
   "metadata": {},
   "outputs": [],
   "source": [
    "# Pour trier un tableau NumPy par ordre croissant, utilisez la fonction numpy.sort() :\n",
    "\n",
    "arr = np.array([3, 1, 4, 2, 5])\n",
    "sorted_arr = np.sort(arr)  # Cela renverra un nouveau tableau trié par ordre croissant.\n",
    "sorted_arr"
   ]
  },
  {
   "cell_type": "markdown",
   "metadata": {},
   "source": [
    "**Question 47**  \n",
    "Comment triez-vous un tableau NumPy par ordre décroissant ?"
   ]
  },
  {
   "cell_type": "code",
   "execution_count": null,
   "metadata": {},
   "outputs": [],
   "source": [
    "# Pour trier un tableau NumPy par ordre décroissant, utilisez la fonction numpy.sort() avec l'argument \"kind='quicksort'\" et inversez les indices :\n",
    "\n",
    "arr = np.array([3, 1, 4, 2, 5])\n",
    "sorted_arr = np.sort(arr)[::-1]  # Cela renverra un nouveau tableau trié par ordre décroissant.\n",
    "sorted_arr"
   ]
  },
  {
   "cell_type": "markdown",
   "metadata": {},
   "source": [
    "**Question 48**  \n",
    "Comment effectuez-vous une opération de multiplication matricielle entre deux tableaux NumPy ?\n"
   ]
  },
  {
   "cell_type": "code",
   "execution_count": null,
   "metadata": {},
   "outputs": [],
   "source": [
    "# Pour effectuer une opération de multiplication matricielle entre deux tableaux NumPy, utilisez la fonction numpy.dot() ou l'opérateur @ :\n",
    "\n",
    "matrix1 = np.array([[1, 2], [3, 4]])\n",
    "matrix2 = np.array([[5, 6], [7, 8]])\n",
    "result = np.dot(matrix1, matrix2) # Cela renverra le produit matriciel des deux matrices.\n",
    "print(result)\n",
    "# Ou avec l'opérateur @\n",
    "result = matrix1 @ matrix2\n",
    "print(result)\n",
    "# Ou avec la méthode matmul\n",
    "result = np.matmul(matrix1, matrix2)\n",
    "print(result)\n"
   ]
  },
  {
   "cell_type": "markdown",
   "metadata": {},
   "source": [
    "**Question 49**  \n",
    "Comment calculez-vous le produit scalaire entre deux tableaux NumPy ?"
   ]
  },
  {
   "cell_type": "code",
   "execution_count": null,
   "metadata": {},
   "outputs": [],
   "source": [
    "# Pour calculer le produit scalaire entre deux tableaux NumPy, utilisez la fonction numpy.dot() :\n",
    "\n",
    "arr1 = np.array([1, 2, 3])\n",
    "arr2 = np.array([4, 5, 6])\n",
    "dot_product = np.dot(arr1, arr2)  # Cela renverra le produit scalaire des deux tableaux.\n"
   ]
  },
  {
   "cell_type": "markdown",
   "metadata": {},
   "source": [
    "**Question 50**  \n",
    "Comment appliquez-vous une fonction personnalisée à chaque élément d'un tableau NumPy ?\n",
    "\n"
   ]
  },
  {
   "cell_type": "code",
   "execution_count": null,
   "metadata": {},
   "outputs": [],
   "source": [
    "# Vous pouvez appliquer une fonction personnalisée à chaque élément d'un tableau NumPy en utilisant la fonction numpy.vectorize() :\n",
    "\n",
    "\n",
    "# Définissez une fonction personnalisée\n",
    "def custom_function(x):\n",
    "    return x * 2\n",
    "\n",
    "arr = np.array([1, 2, 3, 4, 5])\n",
    "\n",
    "# Appliquez la fonction personnalisée à chaque élément du tableau\n",
    "result = np.vectorize(custom_function)(arr)\n"
   ]
  }
 ],
 "metadata": {
  "kernelspec": {
   "display_name": "TP_dosi",
   "language": "python",
   "name": "python3"
  },
  "language_info": {
   "codemirror_mode": {
    "name": "ipython",
    "version": 3
   },
   "file_extension": ".py",
   "mimetype": "text/x-python",
   "name": "python",
   "nbconvert_exporter": "python",
   "pygments_lexer": "ipython3",
   "version": "3.11.5"
  },
  "orig_nbformat": 4
 },
 "nbformat": 4,
 "nbformat_minor": 2
}
