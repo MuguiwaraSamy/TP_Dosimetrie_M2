{
 "cells": [
  {
   "cell_type": "markdown",
   "metadata": {},
   "source": [
    "## **Introduction**\n",
    "\n",
    "Python est un langage de programmation interprété, ce qui signifie qu'il n'est pas nécessaire de le compiler avant de l'exécuter. Cela le rend plus facile à apprendre et à utiliser, en particulier pour les débutants.\n",
    "\n",
    "Python est également un langage de programmation orienté objet, ce qui signifie qu'il permet de créer des programmes plus complexes et plus modulaires.\n",
    "\n",
    "Votre premiére ligne de code :\n",
    "\n"
   ]
  },
  {
   "cell_type": "code",
   "execution_count": null,
   "metadata": {},
   "outputs": [],
   "source": [
    "print(\"Hello World\")"
   ]
  },
  {
   "cell_type": "markdown",
   "metadata": {},
   "source": [
    "---"
   ]
  },
  {
   "cell_type": "markdown",
   "metadata": {},
   "source": [
    "## **Méthodologie en Programmation**\n",
    "\n",
    "La programmation est bien plus qu'écrire du code. C'est un processus intellectuel de résolution de problèmes. Dans ce chapitre, nous allons explorer une méthodologie en programmation pour vous aider à aborder efficacement la création de code à partir d'un problème.\n",
    "\n",
    "#### **Comprendre le Problème**\n",
    "\n",
    "Avant de commencer à écrire du code, il est essentiel de comprendre pleinement le problème que vous essayez de résoudre. Posez-vous les questions suivantes :\n",
    "\n",
    "- **Définissez le Problème :** Par exemple, si vous devez créer un programme de calculatrice, identifiez les opérations à prendre en charge (addition, soustraction, multiplication, division).\n",
    "\n",
    "- **Objectifs de la Solution :** Si l'objectif est de créer une calculatrice, déterminez que la solution doit permettre à l'utilisateur d'effectuer des calculs mathématiques de base.\n",
    "\n",
    "- **Entrées et Sorties :** Dans le cas de la calculatrice, les entrées seraient les nombres à calculer, et la sortie serait le résultat du calcul.\n",
    "\n",
    "#### **Diviser et Conquérir**\n",
    "\n",
    "Diviser le problème en sous-problèmes plus petits rend la résolution plus gérable. Cela permet de créer une structure modulaire pour votre code. Suivez ces étapes :\n",
    "\n",
    "1. **Identifiez les Étapes :** Par exemple, pour la calculatrice, les étapes incluent la saisie des nombres, le choix de l'opération, et l'affichage du résultat.\n",
    "\n",
    "2. **Modularité :** Divisez ces étapes en fonctions ou en modules logiques. Par exemple, vous pouvez créer une fonction pour chaque opération (addition, soustraction, etc.).\n",
    "\n",
    "#### **Planification et Conception**\n",
    "\n",
    "Une conception soignée vous fera gagner du temps par la suite. Esquissez votre plan en utilisant des diagrammes, des pseudocodes ou des algorithmes.\n",
    "\n",
    "- **Diagrammes :** Vous pouvez dessiner un diagramme de flux montrant comment les différentes étapes de votre programme s'entrelacent.\n",
    "\n",
    "- **Pseudocodes :** Pour la calculatrice, un pseudocode pourrait ressembler à ceci :\n",
    "  \n",
    "  - Lire le premier nombre\n",
    "  - Lire l'opération\n",
    "  - Lire le deuxième nombre\n",
    "  - Effectuer l'opération\n",
    "  - Afficher le résultat\n",
    "  \n",
    "\n",
    "- **Algorithmes :** Pour l'algorithme de l'addition, vous pourriez écrire : \n",
    "\n",
    "  ```python\n",
    "  Fonction def Addition(a, b)\n",
    "      Résultat = a + b\n",
    "      Retourner Résultat\n",
    "  ```\n",
    "\n",
    "#### **Écrire le Code**\n",
    "\n",
    "Commencez à écrire le code en suivant votre plan. Assurez-vous que chaque fonction ou module accomplit une tâche spécifique et qu'ils sont réutilisables.\n",
    "\n",
    "- **Noms Significatifs :** Par exemple, nommez votre fonction d'addition `addition(a, b)` pour que son but soit clair.\n",
    "\n",
    "- **Commentaires :** Ajoutez des commentaires expliquant la logique complexe ou les parties délicates du code. Par exemple, commentez l'implémentation de la division si elle est complexe.\n",
    "\n",
    "#### **Tester Rigoureusement**\n",
    "\n",
    "La phase de test est cruciale. Assurez-vous que votre code fonctionne correctement pour diverses entrées. Identifiez et corrigez les erreurs (bugs) éventuelles.\n",
    "\n",
    "- **Tests Unitaires :** Testez chaque fonction individuellement pour vous assurer qu'elle produit les résultats attendus. Par exemple, testez la fonction d'addition avec différentes paires de nombres.\n",
    "\n",
    "- **Tests d'Intégration :** Vérifiez comment les différentes parties de votre code interagissent entre elles. Par exemple, assurez-vous que toutes les opérations fonctionnent ensemble.\n",
    "\n",
    "- **Tests de Cas Limites :** Testez avec des entrées extrêmes ou inattendues. Par exemple, essayez de diviser par zéro pour voir comment votre programme gère cette situation.\n",
    "\n",
    "#### **Optimisation et Amélioration**\n",
    "\n",
    "Une fois que votre code fonctionne, envisagez des moyens de l'optimiser. Peut-il être plus rapide, plus efficace ou plus lisible ? N'hésitez pas à améliorer votre code au fil du temps.\n",
    "\n",
    "- **Analyse de la Performance :** Utilisez un profiler pour identifier les parties du code qui ralentissent l'exécution, comme une boucle de calcul intensive.\n",
    "\n",
    "#### **Documentation**\n",
    "\n",
    "N'oubliez pas de documenter votre code. Expliquez comment il fonctionne, comment l'utiliser et ce qu'il fait. Cela aidera les autres développeurs (et vous-même) à comprendre votre travail.\n",
    "\n",
    "- **Commentaires de Fonction :** Incluez des commentaires pour chaque fonction expliquant son but, ses paramètres et ses valeurs de retour. Par exemple, commentez la fonction d'addition.\n",
    "\n",
    "- **Documentation Globale :** Créez une documentation globale décrivant l'ensemble du programme et comment l'exécuter. Indiquez comment l'utilisateur peut utiliser la calculatrice que vous avez créée.\n",
    "\n",
    "#### **Conclusion**\n",
    "\n",
    "La méthodologie en programmation est essentielle pour créer des solutions efficaces et maintenables. En suivant ces étapes, vous serez mieux préparé pour aborder n'importe quel problème de programmation.\n",
    "\n",
    "---"
   ]
  },
  {
   "cell_type": "markdown",
   "metadata": {},
   "source": [
    "## **Calcule avec Python**\n",
    "\n",
    "#### **Opérateurs en Python**\n",
    "\n",
    "Les opérateurs sont des symboles spéciaux utilisés pour effectuer des opérations sur les valeurs et les variables en Python. Voici une liste des opérateurs utilisés dans votre exemple :\n",
    "\n",
    "**Opérateur d'Addition (+)**\n",
    "\n",
    "L'opérateur d'addition, représenté par le symbole `+`, permet d'additionner deux valeurs. Par exemple :\n",
    "\n",
    "- `5 + 5` effectue l'addition et renvoie 10.\n",
    "\n",
    "**Opérateur de Soustraction (-)**\n",
    "\n",
    "L'opérateur de soustraction, représenté par le symbole `-`, permet de soustraire une valeur d'une autre. Par exemple :\n",
    "\n",
    "- `2 - 9` effectue la soustraction et renvoie -7.\n",
    "\n",
    "**Opérateur de Multiplication (*)**\n",
    "\n",
    "L'opérateur de multiplication, représenté par le symbole `*`, permet de multiplier deux valeurs. L'ordre des opérations est respecté, ce qui signifie que la multiplication est effectuée avant l'addition. Par exemple :\n",
    "\n",
    "- `3 + 5 * 5` effectue la multiplication en premier (5 * 5), puis effectue l'addition (3 + 25) pour obtenir 28.\n",
    "\n",
    "**Opérateur de Modulo (%)**\n",
    "\n",
    "L'opérateur de modulo, représenté par le symbole `%`, permet de calculer le reste de la division entre deux nombres. Par exemple :\n",
    "\n",
    "- `5 % 2` renvoie le reste de la division de 5 par 2, soit 1.\n",
    "\n",
    "**Opérateur de Division (/)**\n",
    "\n",
    "L'opérateur de division, représenté par le symbole `/`, permet de diviser une valeur par une autre. Par exemple :\n",
    "\n",
    "- `5 / 2` effectue la division et renvoie 2.5 en tant que résultat à virgule flottante.\n",
    "\n",
    "**Opérateur de Division Entière (//)**\n",
    "\n",
    "L'opérateur de division entière, représenté par le symbole `//`, permet de diviser une valeur par une autre et de renvoyer le quotient en tant qu'entier. Par exemple :\n",
    "\n",
    "- `5 // 2` effectue la division et renvoie 2 en tant qu'entier.\n",
    "\n",
    "**Opérateur d'Exponentiation (**)**\n",
    "\n",
    "L'opérateur d'exponentiation, représenté par le symbole `**`, permet de calculer une valeur élevée à une puissance donnée. Par exemple :\n",
    "\n",
    "- `5 ** 2` renvoie 25, car 5 élevé à la puissance 2 est égal à 25.\n"
   ]
  },
  {
   "cell_type": "code",
   "execution_count": null,
   "metadata": {},
   "outputs": [],
   "source": [
    "(5+5,#addition\n",
    "2-9, #subtraction\n",
    "3+5*5, #multiplication est ce que l'ordre est respecté\n",
    "5%2, #modulo le reste de la division\n",
    "5/2, #division\n",
    "5//2, #division entière\n",
    "5**2) #puissance"
   ]
  },
  {
   "cell_type": "markdown",
   "metadata": {},
   "source": [
    "---"
   ]
  },
  {
   "cell_type": "markdown",
   "metadata": {},
   "source": [
    "\n",
    "## **Les Variables**\n",
    "\n",
    "L'essentiel en programmation consiste souvent en la manipulation de données. Ces données sont stockées sous forme de 0 et de 1 dans la mémoire. Pour accéder à ces données et les manipuler, nous utilisons des variables. Pour l'ordinateur, une variable est une adresse où trouver les données associées.\n",
    "\n",
    "#### **ATTENTION : Mots Réservés par Python**\n",
    "\n",
    "Python a des mots réservés qui ne peuvent pas être utilisés comme noms de variables, car ils ont des significations spéciales dans le langage. Voici quelques-uns de ces mots réservés :\n",
    "\n",
    "```python\n",
    "and, as, assert, async, await, break, class, continue, def, del, elif, else, except, finally, for, from, global, if, import, in, is, lambda, nonlocal, not, or, pass, raise, return, try, while, with, yield\n",
    "```\n",
    "\n",
    "#### **Les Noms de Variables qui Commencent par un Chiffre**\n",
    "\n",
    "Les noms de variables ne peuvent pas commencer par un chiffre. Par exemple, les noms suivants ne sont pas valides :\n",
    "\n",
    "```python\n",
    "1name, 2age, 3height, 4weight\n",
    "```\n",
    "\n",
    "#### **Les Noms de Variables qui Contiennent des Espaces ou des Caractères Spéciaux**\n",
    "\n",
    "Les noms de variables ne peuvent pas contenir d'espaces, de caractères accentués, de cédilles ou de caractères spéciaux tels que $, #, @, etc. à l'exception du caractère souligné (_). Par exemple, les noms suivants ne sont pas valides :\n",
    "\n",
    "```python\n",
    "\"Hello World\" = 1, \"John\" = \"Doe\"\n",
    "```\n",
    "\n",
    "#### **Exemples de Noms de Variables Autorisés**\n",
    "\n",
    "Voici des exemples de noms de variables autorisés :\n",
    "\n",
    "```python\n",
    "name = \"John\"\n",
    "age = 30\n",
    "height = 1.75\n",
    "weight = 75\n",
    "```\n",
    "\n",
    "**Remarque** : La liste des mots réservés par Python peut varier d'une version à l'autre. Consultez la documentation officielle de Python pour connaître la liste complète des mots réservés.\n",
    "\n"
   ]
  },
  {
   "cell_type": "markdown",
   "metadata": {},
   "source": [
    "**Rappel sur les types de variables en Python**\n",
    "\n",
    "En Python, les variables peuvent être de différents types. Le type d'une variable détermine le type de données qu'elle peut contenir.\n",
    "\n",
    "Les types de variables les plus courants sont :\n",
    "* **Entiers** : les entiers représentent des nombres entiers, tels que 1, 2, 3, etc.\n",
    "\n",
    "* **Flottants** : les flottants représentent des nombres réels, tels que 1.2, 3.14, etc.\n",
    "\n",
    "* **Chaînes de caractères** : les chaînes de caractères représentent des séquences de caractères, telles que \"Hello, world!\"\n",
    "\n",
    "* **Booléens** : les booléens représentent des valeurs logiques, telles que True ou False.\n",
    "\n",
    "* **Listes** : les listes représentent des collections ordonnées d'éléments.\n",
    "\n",
    "* **Tuples** : les tuples représentent des collections ordonnées d'éléments, mais elles sont immuables.\n",
    "\n",
    "* **Dictionnaires** : les dictionnaires représentent des collections de paires clé-valeur.\n",
    "\n"
   ]
  },
  {
   "cell_type": "code",
   "execution_count": null,
   "metadata": {},
   "outputs": [],
   "source": [
    "# Déclarer une variable de type entier\n",
    "age = 30\n",
    "\n",
    "# Déclarer une variable de type flottant\n",
    "height = 1.75\n",
    "\n",
    "# Déclarer une variable de type chaîne de caractères\n",
    "name = \"John Doe\"\n",
    "\n",
    "# Déclarer une variable de type booléen\n",
    "is_male = True\n",
    "\n",
    "# Déclarer une liste de nombres entiers\n",
    "numbers = [1, 2, 3, 4, 5]\n",
    "\n",
    "# Déclarer un tuple de chaînes de caractères\n",
    "colors = (\"red\", \"green\", \"blue\")\n",
    "\n",
    "# Déclarer un dictionnaire de mots et de définitions\n",
    "dictionary = {\"hello\": \"salut\", \"world\": \"monde\"}\n"
   ]
  },
  {
   "cell_type": "markdown",
   "metadata": {},
   "source": [
    "Pour connaître le type d'une variable, on peut utiliser la fonction `type()`."
   ]
  },
  {
   "cell_type": "code",
   "execution_count": null,
   "metadata": {},
   "outputs": [],
   "source": [
    "# Déclare une variable de type entier\n",
    "age = 30\n",
    "\n",
    "# Affiche le type de la variable\n",
    "print(type(age))\n"
   ]
  },
  {
   "cell_type": "markdown",
   "metadata": {},
   "source": [
    "On peut également utiliser la fonction `isinstance()` pour vérifier si une variable est d'un certain type."
   ]
  },
  {
   "cell_type": "code",
   "execution_count": null,
   "metadata": {},
   "outputs": [],
   "source": [
    "# Déclare une variable de type entier\n",
    "age = 30\n",
    "\n",
    "# Vérifie si la variable est d'un type entier\n",
    "print(isinstance(age, int))\n"
   ]
  },
  {
   "cell_type": "markdown",
   "metadata": {},
   "source": [
    "\n",
    "\n",
    "## **Introduction aux Opérateurs de Comparaison**\n",
    "\n",
    "Les opérateurs de comparaison (ou opérateurs relationnels) sont utilisés en Python pour comparer deux valeurs. Ils retournent un résultat booléen, c'est-à-dire `True` ou `False`, en fonction de si la comparaison est vraie ou non. Voici les principaux opérateurs de comparaison en Python :\n",
    "\n",
    "1. **==** (Égal à) : Vérifie si deux valeurs sont égales.\n",
    "2. **!=** (Différent de) : Vérifie si deux valeurs ne sont pas égales.\n",
    "3. **<** (Inférieur à) : Vérifie si une valeur est strictement inférieure à une autre.\n",
    "4. **<=** (Inférieur ou égal à) : Vérifie si une valeur est inférieure ou égale à une autre.\n",
    "5. **>** (Supérieur à) : Vérifie si une valeur est strictement supérieure à une autre.\n",
    "6. **>=** (Supérieur ou égal à) : Vérifie si une valeur est supérieure ou égale à une autre.\n",
    "\n",
    "Ces opérateurs sont couramment utilisés pour évaluer des conditions et prendre des décisions dans vos programmes.\n",
    "\n",
    "## **Les Structures Conditionnelles en Python**\n",
    "\n",
    "Les structures conditionnelles sont utilisées pour exécuter différentes parties de code en fonction d'une condition donnée. En Python, les structures conditionnelles sont définies à l'aide des mots-clés `if`, `elif` (abréviation de \"else if\"), et `else`. Voici la syntaxe générale :\n",
    "\n",
    "```python\n",
    "if condition:\n",
    "    # Code à exécuter si la condition est vraie\n",
    "elif autre_condition:\n",
    "    # Code à exécuter si une autre_condition est vraie (optionnel)\n",
    "else:\n",
    "    # Code à exécuter si aucune des conditions précédentes n'est vraie (optionnel)\n",
    "```"
   ]
  },
  {
   "cell_type": "code",
   "execution_count": null,
   "metadata": {},
   "outputs": [],
   "source": [
    "age = 18\n",
    "\n",
    "if age < 18:\n",
    "    print(\"Vous êtes mineur.\")\n",
    "elif age == 18:\n",
    "    print(\"Vous avez 18 ans, vous êtes tout juste majeur.\")\n",
    "else:\n",
    "    print(\"Vous êtes majeur.\")"
   ]
  },
  {
   "cell_type": "markdown",
   "metadata": {},
   "source": [
    "Dans cet exemple, le programme vérifie la valeur de la variable `age` et exécute le bloc de code correspondant à la condition qui est vraie.\n",
    "\n",
    "#### **Exemples d'Utilisation des Opérateurs Conditionnels**\n",
    "\n",
    "Voyons quelques exemples d'utilisation des opérateurs conditionnels :\n",
    "\n",
    "\n"
   ]
  },
  {
   "cell_type": "markdown",
   "metadata": {},
   "source": [
    "**Exemple 1** : Vérifier si un Nombre est Pair ou Impair"
   ]
  },
  {
   "cell_type": "code",
   "execution_count": null,
   "metadata": {},
   "outputs": [],
   "source": [
    "nombre = 7\n",
    "\n",
    "if nombre % 2 == 0:\n",
    "    print(\"Le nombre est pair.\")\n",
    "else:\n",
    "    print(\"Le nombre est impair.\")"
   ]
  },
  {
   "cell_type": "markdown",
   "metadata": {},
   "source": [
    "**Exemple 2**: Trouver le Plus Grand de Deux Nombres"
   ]
  },
  {
   "cell_type": "code",
   "execution_count": null,
   "metadata": {},
   "outputs": [],
   "source": [
    "a = 10\n",
    "b = 15\n",
    "\n",
    "if a > b:\n",
    "    print(\"a est plus grand que b.\")\n",
    "elif a < b:\n",
    "    print(\"b est plus grand que a.\")\n",
    "else:\n",
    "    print(\"a et b sont égaux.\")"
   ]
  },
  {
   "cell_type": "markdown",
   "metadata": {},
   "source": [
    "\n",
    "**Exemple 3** : Vérifier si une Année est une Année Bissextile"
   ]
  },
  {
   "cell_type": "code",
   "execution_count": null,
   "metadata": {},
   "outputs": [],
   "source": [
    "annee = 2024\n",
    "\n",
    "if (annee % 4 == 0 and annee % 100 != 0) or (annee % 400 == 0):\n",
    "    print(\"L'année est bissextile.\")\n",
    "else:\n",
    "    print(\"L'année n'est pas bissextile.\")"
   ]
  },
  {
   "cell_type": "markdown",
   "metadata": {},
   "source": [
    "#### **Conclusion**\n",
    "\n",
    "Les opérateurs de comparaison et les structures conditionnelles sont des éléments essentiels de la programmation en Python. Ils vous permettent de prendre des décisions et de contrôler le flux de votre programme en fonction des conditions spécifiées. En les utilisant correctement, vous pouvez rendre vos programmes plus puissants et plus flexibles.\n",
    "\n",
    "---"
   ]
  },
  {
   "cell_type": "markdown",
   "metadata": {},
   "source": [
    "#### **Introduction aux Boucles**\n",
    "\n",
    "Les boucles sont des structures de contrôle qui vous permettent d'exécuter un bloc de code de manière répétée. Elles sont utilisées lorsque vous devez effectuer la même action plusieurs fois. En Python, deux types de boucles sont couramment utilisés : la boucle `for` et la boucle `while`.\n",
    "\n",
    "#### **La Boucle `for`**\n",
    "\n",
    "La boucle `for` est utilisée pour itérer sur une séquence (comme une liste, une chaîne de caractères, un dictionnaire, etc.) ou pour exécuter un bloc de code un nombre spécifique de fois. Voici la syntaxe générale :\n",
    "\n",
    "```python\n",
    "for variable in sequence:\n",
    "    # Code à exécuter à chaque itération\n",
    "```"
   ]
  },
  {
   "cell_type": "code",
   "execution_count": null,
   "metadata": {},
   "outputs": [],
   "source": [
    "nombres = [1, 2, 3, 4, 5]\n",
    "\n",
    "for nombre in nombres:\n",
    "    print(nombre)"
   ]
  },
  {
   "cell_type": "markdown",
   "metadata": {},
   "source": [
    "Dans cet exemple, la boucle `for` parcourt la liste `nombres` et affiche chaque élément.\n",
    "\n",
    "**Note importante :** Lorsque vous utilisez la fonction `range()` pour générer une séquence d'entiers, il est essentiel de se rappeler que la séquence commence par 0 par défaut. Par conséquent, si vous voulez commencer à partir de 1, vous devrez ajouter 1 au nombre souhaité. Par exemple :\n"
   ]
  },
  {
   "cell_type": "code",
   "execution_count": null,
   "metadata": {},
   "outputs": [],
   "source": [
    "for i in range(1, 6):\n",
    "    print(i)"
   ]
  },
  {
   "cell_type": "markdown",
   "metadata": {},
   "source": [
    "#### **La Boucle `while`**\n",
    "\n",
    "La boucle `while` est utilisée pour exécuter un bloc de code tant qu'une condition spécifiée est vraie. Voici la syntaxe générale :\n",
    "\n",
    "```python\n",
    "while condition:\n",
    "    # Code à exécuter tant que la condition est vraie\n",
    "```"
   ]
  },
  {
   "cell_type": "code",
   "execution_count": null,
   "metadata": {},
   "outputs": [],
   "source": [
    "compteur = 0\n",
    "\n",
    "while compteur < 5:\n",
    "    print(compteur)\n",
    "    compteur += 1"
   ]
  },
  {
   "cell_type": "markdown",
   "metadata": {},
   "source": [
    "Dans cet exemple, la boucle `while` s'exécute tant que la variable `compteur` est inférieure à 5.\n",
    "\n",
    "#### **Les Instructions `break` et `continue`**\n",
    "\n",
    "- L'instruction `break` est utilisée pour interrompre une boucle prématurément si une condition spécifiée est rencontrée. Elle permet de sortir de la boucle.\n",
    "- L'instruction `continue` est utilisée pour passer à l'itération suivante d'une boucle, en sautant le reste du code à l'intérieur de cette itération.\n"
   ]
  },
  {
   "cell_type": "code",
   "execution_count": null,
   "metadata": {},
   "outputs": [],
   "source": [
    "nombres = [1, 2, 3, 4, 5]\n",
    "\n",
    "for nombre in nombres:\n",
    "    if nombre == 3:\n",
    "        break\n",
    "    print(nombre)"
   ]
  },
  {
   "cell_type": "markdown",
   "metadata": {},
   "source": [
    "Dans cet exemple, la boucle `for` s'arrête lorsque `nombre` devient égal à 3."
   ]
  },
  {
   "cell_type": "code",
   "execution_count": null,
   "metadata": {},
   "outputs": [],
   "source": [
    "nombres = [1, 2, 3, 4, 5]\n",
    "\n",
    "for nombre in nombres:\n",
    "    if nombre == 3:\n",
    "        continue\n",
    "    print(nombre)"
   ]
  },
  {
   "cell_type": "markdown",
   "metadata": {},
   "source": [
    "Dans cet exemple, la boucle `for` saute l'itération où `nombre` est égal à 3.\n",
    "\n",
    "#### **Conclusion**\n",
    "\n",
    "Les boucles `for` et `while` sont des outils puissants en Python pour automatiser des tâches répétitives. En comprenant comment les utiliser et en combinant cela avec des instructions `break` et `continue`, vous pouvez créer des programmes plus efficaces et plus flexibles. N'oubliez pas de prendre en compte le point important concernant l'utilisation de `range()`.\n",
    "\n",
    "___"
   ]
  },
  {
   "cell_type": "markdown",
   "metadata": {},
   "source": [
    "\n",
    "## **Bibliothèques Python**\n",
    "\n",
    "Les bibliothèques Python sont des collections de modules et de fonctions pré-écrites qui étendent les fonctionnalités de base du langage Python. Elles sont utilisées pour résoudre des problèmes spécifiques, automatiser des tâches courantes, et accélérer le développement de logiciels. Voici quelques-unes des utilisations courantes des bibliothèques Python :\n",
    "\n",
    "1. **Traitement des Données :** Les bibliothèques comme NumPy, Pandas et SciPy sont largement utilisées pour le traitement des données, la manipulation de tableaux et l'analyse statistique.\n",
    "\n",
    "2. **Visualisation de Données :** Matplotlib, Seaborn et Plotly sont des bibliothèques de visualisation de données qui permettent de créer des graphiques et des visualisations pour mieux comprendre les données.\n",
    "\n",
    "3. **Apprentissage Automatique et Intelligence Artificielle :** Des bibliothèques telles que Scikit-Learn, TensorFlow et PyTorch sont utilisées pour développer des modèles d'apprentissage automatique et d'IA.\n",
    "\n",
    "4. **Traitement de Texte et de Langage Naturel :** NLTK et SpaCy sont utilisées pour le traitement de texte, l'analyse de sentiments, la tokenisation, etc.\n",
    "\n",
    "5. **Développement Web :** Flask et Django sont des frameworks web basés sur Python qui facilitent le développement d'applications web.\n",
    "\n",
    "6. **Automatisation :** Des bibliothèques telles que Selenium et Beautiful Soup sont utilisées pour automatiser des tâches liées au web, telles que le web scraping et le contrôle de navigateur.\n",
    "\n",
    "7. **Calcul Scientifique :** SciPy, SymPy et autres bibliothèques sont utilisées pour des calculs scientifiques et mathématiques avancés.\n",
    "\n",
    "#### **Importation de Bibliothèques Python**\n",
    "\n",
    "Pour utiliser une bibliothèque Python, vous devez l'importer dans votre script ou votre programme. Voici comment cela fonctionne :\n",
    "\n",
    "```python\n",
    "# Importation d'une bibliothèque entière\n",
    "import bibliothèque\n",
    "\n",
    "# Importation d'une bibliothèque avec un alias\n",
    "import bibliothèque as alias\n",
    "\n",
    "# Importation de modules ou de fonctions spécifiques\n",
    "from bibliothèque import module_ou_fonction\n",
    "```\n",
    "\n",
    "Par exemple, pour importer la bibliothèque NumPy avec l'alias `np` :\n",
    "\n",
    "```python\n",
    "import numpy as np\n",
    "```\n",
    "\n",
    "Une fois la bibliothèque importée, vous pouvez accéder à ses modules, classes et fonctions en utilisant l'alias ou le nom complet de la bibliothèque.\n",
    "\n",
    "#### **Structure des Bibliothèques Python**\n",
    "\n",
    "Les bibliothèques Python sont généralement organisées en modules, chacun contenant un ensemble de fonctions, de classes et de variables liées. Les modules sont regroupés de manière logique en fonction de leur fonctionnalité. Par exemple, dans la bibliothèque NumPy, vous trouverez des modules pour les opérations mathématiques, les fonctions de statistiques, le traitement de tableaux, etc.\n",
    "\n",
    "Les bibliothèques sont souvent développées et maintenues par des communautés open source, ce qui signifie que de nombreux contributeurs travaillent ensemble pour ajouter de nouvelles fonctionnalités, résoudre des problèmes et améliorer les performances.\n",
    "\n",
    "En résumé, les bibliothèques Python sont essentielles pour étendre les fonctionnalités de base du langage et sont utilisées pour une grande variété d'applications, du traitement des données à l'apprentissage automatique en passant par le développement web. Pour les utiliser, vous les importez dans vos projets, puis vous explorez leurs modules et leurs fonctions pour répondre à vos besoins spécifiques.\n",
    "\n",
    "---"
   ]
  },
  {
   "cell_type": "markdown",
   "metadata": {},
   "source": [
    "\n",
    "## **Utilisation des Bibliothèques NumPy, Matplotlib et SciPy en Python**\n",
    "\n",
    "### **NumPy**\n",
    "\n",
    "NumPy est une bibliothèque Python largement utilisée pour le calcul numérique et le traitement de tableaux multidimensionnels. Voici les étapes de base pour utiliser NumPy :\n",
    "\n",
    "#### **Importation de NumPy**\n",
    "\n",
    "L'importation de NumPy est généralement faite avec l'alias `np` pour simplifier l'accès aux fonctions de la bibliothèque.\n"
   ]
  },
  {
   "cell_type": "code",
   "execution_count": null,
   "metadata": {},
   "outputs": [],
   "source": [
    "import numpy as np"
   ]
  },
  {
   "cell_type": "markdown",
   "metadata": {},
   "source": [
    "#### **Création de Tableaux NumPy**\n",
    "\n",
    "NumPy permet de créer des tableaux multidimensionnels (ndarrays). Voici comment créer un tableau NumPy :"
   ]
  },
  {
   "cell_type": "code",
   "execution_count": null,
   "metadata": {},
   "outputs": [],
   "source": [
    "# Créer un tableau NumPy à partir d'une liste\n",
    "arr = np.array([1, 2, 3, 4, 5])\n",
    "print(arr)\n",
    "\n",
    "# Créer un tableau NumPy rempli de zéros\n",
    "zeros_arr = np.zeros((3, 3))\n",
    "print(zeros_arr)\n",
    "\n",
    "# Créer un tableau NumPy rempli de valeurs aléatoires\n",
    "random_arr = np.random.rand(3, 3)\n",
    "print(random_arr)"
   ]
  },
  {
   "cell_type": "markdown",
   "metadata": {},
   "source": [
    "#### **Manipulation de Tableaux NumPy**\n",
    "\n",
    "NumPy offre de nombreuses fonctions pour manipuler des tableaux. Par exemple, vous pouvez effectuer des opérations mathématiques sur des tableaux, les redimensionner, les indexer, etc."
   ]
  },
  {
   "cell_type": "code",
   "execution_count": null,
   "metadata": {},
   "outputs": [],
   "source": [
    "arr1 = np.array([1, 2, 3])\n",
    "arr2 = np.array([4, 5, 6])\n",
    "print(arr1)\n",
    "print(arr2)\n",
    "print('\\n')\n",
    "\n",
    "# Addition de deux tableaux NumPy\n",
    "result = arr1 + arr2\n",
    "print(result, '\\n')\n",
    "# Concaténation de deux tableaux NumPy\n",
    "\n",
    "result = np.concatenate((arr1, arr2))\n",
    "print(result, '\\n')\n",
    "\n",
    "# Redimensionnement d'un tableau\n",
    "reshaped_arr = result.reshape(2, 3)\n",
    "print(reshaped_arr, '\\n')\n",
    "\n",
    "# Accéder à un élément spécifique\n",
    "element = arr[0]\n",
    "print(element, '\\n')\n",
    "\n",
    "# Indexation conditionnelle\n",
    "filtered_arr = arr[arr > 2]\n",
    "print(filtered_arr, '\\n')\n"
   ]
  },
  {
   "cell_type": "markdown",
   "metadata": {},
   "source": [
    "### **Matplotlib**\n",
    "\n",
    "Matplotlib est une bibliothèque pour créer des graphiques et des visualisations en Python. Voici comment commencer à utiliser Matplotlib :\n",
    "\n",
    "#### **Importation de Matplotlib**\n",
    "\n",
    "L'importation de Matplotlib est généralement faite avec l'alias `plt`.\n"
   ]
  },
  {
   "cell_type": "code",
   "execution_count": null,
   "metadata": {},
   "outputs": [],
   "source": [
    "import matplotlib.pyplot as plt"
   ]
  },
  {
   "cell_type": "markdown",
   "metadata": {},
   "source": [
    "#### **Création de Graphiques Simples**\n",
    "\n",
    "Matplotlib permet de créer une grande variété de graphiques, tels que des graphiques linéaires, des diagrammes à barres, des diagrammes à secteurs, etc.\n",
    "\n",
    "\n"
   ]
  },
  {
   "cell_type": "code",
   "execution_count": null,
   "metadata": {},
   "outputs": [],
   "source": [
    "# Création d'un graphique linéaire\n",
    "x = [1, 2, 3, 4, 5]\n",
    "y = [2, 4, 6, 8, 10]\n",
    "\n",
    "plt.plot(x, y)\n",
    "plt.show()"
   ]
  },
  {
   "cell_type": "markdown",
   "metadata": {},
   "source": [
    "#### **Personnalisation de Graphiques**\n",
    "\n",
    "Matplotlib permet de personnaliser de nombreux aspects des graphiques, notamment les couleurs, les étiquettes, les légendes, etc.\n"
   ]
  },
  {
   "cell_type": "code",
   "execution_count": null,
   "metadata": {},
   "outputs": [],
   "source": [
    "\n",
    "# Personnalisation des couleurs et de la légende\n",
    "plt.plot(x, y, label=\"Données\")\n",
    "plt.xlabel(\"Axe X\")\n",
    "plt.ylabel(\"Axe Y\")\n",
    "plt.title(\"Notre graphique linéaire\")\n",
    "plt.legend()\n",
    "plt.show()"
   ]
  },
  {
   "cell_type": "markdown",
   "metadata": {},
   "source": [
    "### **SciPy**\n",
    "\n",
    "SciPy est une bibliothèque qui s'appuie sur NumPy et offre des fonctionnalités supplémentaires pour l'optimisation, la statistique, le traitement du signal, etc. Voici un exemple d'utilisation de SciPy pour l'optimisation :\n",
    "\n",
    "#### **Importation de SciPy**\n",
    "\n"
   ]
  },
  {
   "cell_type": "code",
   "execution_count": null,
   "metadata": {},
   "outputs": [],
   "source": [
    "import scipy.optimize as opt"
   ]
  },
  {
   "cell_type": "markdown",
   "metadata": {},
   "source": [
    "\n",
    "#### **Optimisation avec SciPy**\n",
    "\n",
    "SciPy offre diverses fonctions d'optimisation pour résoudre des problèmes d'optimisation non linéaires.\n",
    "Cet exemple montre comment utiliser SciPy pour minimiser la fonction de Rosenbrock en ajustant les paramètres."
   ]
  },
  {
   "cell_type": "code",
   "execution_count": null,
   "metadata": {},
   "outputs": [],
   "source": [
    "# Exemple d'optimisation de la fonction Rosenbrock\n",
    "def rosenbrock(x):\n",
    "    return (1 - x[0])**2 + 100 * (x[1] - x[0]**2)**2\n",
    "\n",
    "initial_guess = [0, 0]\n",
    "result = opt.minimize(rosenbrock, initial_guess, method='BFGS')\n",
    "print(result.x)"
   ]
  },
  {
   "cell_type": "markdown",
   "metadata": {},
   "source": [
    "### **Conclusion**\n",
    "\n",
    "NumPy, Matplotlib et SciPy sont des bibliothèques Python puissantes pour le calcul numérique, la visualisation de données et l'optimisation. En comprenant comment les importer, créer des tableaux NumPy, créer des graphiques Matplotlib et utiliser les fonctionnalités de SciPy, vous pouvez améliorer considérablement votre capacité à traiter des problèmes complexes en Python. Ces bibliothèques sont essentielles pour les scientifiques des données, les ingénieurs et les chercheurs travaillant avec des données et des calculs numériques.\n",
    "\n",
    "___"
   ]
  },
  {
   "cell_type": "markdown",
   "metadata": {},
   "source": [
    "\n",
    "### **Guide des Fonctions en Python**\n",
    "\n",
    "Les fonctions sont un concept fondamental en programmation. En Python, elles vous permettent de regrouper un ensemble d'instructions pour effectuer une tâche spécifique. Comprendre comment créer, appeler et utiliser des fonctions est essentiel pour écrire un code Python structuré et réutilisable.\n",
    "\n",
    "#### **Définition d'une Fonction**\n",
    "\n",
    "En Python, une fonction est définie à l'aide du mot-clé `def`, suivi du nom de la fonction et de parenthèses contenant les paramètres (s'ils existent). Voici la structure générale :\n",
    "\n",
    "```python\n",
    "def nom_de_la_fonction(parametre1, parametre2, ...):\n",
    "    # Instructions de la fonction\n",
    "    return resultat  # (optionnel)\n",
    "```\n",
    "\n",
    "- `nom_de_la_fonction` : Le nom de la fonction, choisi par le programmeur.\n",
    "- `parametre1`, `parametre2`, ... : Les paramètres (arguments) que la fonction peut accepter. Ce sont les valeurs d'entrée que la fonction utilisera pour effectuer des calculs ou des opérations.\n",
    "- `return resultat` : Cette ligne est optionnelle. Elle indique ce que la fonction renverra comme résultat. Si elle est omise, la fonction renverra `None` par défaut.\n",
    "\n",
    "#### Exemple de Fonction\n",
    "\n",
    "Voici un exemple simple d'une fonction qui ajoute deux nombres et renvoie le résultat :\n"
   ]
  },
  {
   "cell_type": "code",
   "execution_count": null,
   "metadata": {},
   "outputs": [],
   "source": [
    "def addition(a, b):\n",
    "    resultat = a + b\n",
    "    return resultat"
   ]
  },
  {
   "cell_type": "markdown",
   "metadata": {},
   "source": [
    "#### **Appel de Fonction**\n",
    "\n",
    "Pour utiliser une fonction, vous devez l'appeler en lui fournissant les valeurs des paramètres nécessaires. Vous pouvez stocker le résultat dans une variable si nécessaire."
   ]
  },
  {
   "cell_type": "code",
   "execution_count": null,
   "metadata": {},
   "outputs": [],
   "source": [
    "resultat_somme = addition(3, 5)\n",
    "print(resultat_somme)  "
   ]
  },
  {
   "cell_type": "markdown",
   "metadata": {},
   "source": [
    "#### **Portée des Variables**\n",
    "\n",
    "Les variables définies à l'intérieur d'une fonction ont une portée locale, ce qui signifie qu'elles ne sont accessibles qu'à l'intérieur de la fonction. Les variables définies à l'extérieur de la fonction sont dites globales et sont accessibles partout dans le programme.\n",
    "\n",
    "```python\n",
    "def exemple():\n",
    "    variable_locale = 10  # Variable locale à la fonction\n",
    "    print(variable_locale)\n",
    "\n",
    "exemple()\n",
    "# print(variable_locale)  # Cette ligne générera une erreur car variable_locale n'est pas définie ici.\n",
    "```\n",
    "\n",
    "#### **Arguments par Défaut**\n",
    "\n",
    "Vous pouvez attribuer des valeurs par défaut aux paramètres d'une fonction. Ces valeurs seront utilisées si aucun argument correspondant n'est passé lors de l'appel de la fonction."
   ]
  },
  {
   "cell_type": "code",
   "execution_count": null,
   "metadata": {},
   "outputs": [],
   "source": [
    "def salutation(nom, message=\"Bonjour\"):\n",
    "    print(f\"{message}, {nom}!\")\n",
    "\n",
    "salutation(\"Alice\")  # Affiche : Bonjour, Alice!\n",
    "salutation(\"Bob\", \"Salut\")  # Affiche : Salut, Bob!"
   ]
  },
  {
   "cell_type": "markdown",
   "metadata": {},
   "source": [
    "\n",
    "#### **Fonctions sans `return`**\n",
    "\n",
    "Toutes les fonctions ne sont pas tenues de renvoyer une valeur. Si une fonction n'a pas d'instruction `return`, elle renverra automatiquement `None`.\n"
   ]
  },
  {
   "cell_type": "code",
   "execution_count": null,
   "metadata": {},
   "outputs": [],
   "source": [
    "def fonction_sans_retour():\n",
    "    print(\"Cette fonction ne renvoie rien.\")\n",
    "\n",
    "resultat = fonction_sans_retour()\n",
    "print(resultat)  # Affiche : None\n",
    "fonction_sans_retour()"
   ]
  },
  {
   "cell_type": "markdown",
   "metadata": {},
   "source": [
    "#### **Documentation de Fonction**\n",
    "\n",
    "Il est important de documenter vos fonctions en fournissant une description, des détails sur les paramètres et la valeur de retour, le cas échéant. Utilisez des commentaires sous forme de docstrings (entre triples guillemets) juste après la définition de la fonction.\n",
    "\n",
    "```python\n",
    "def ma_fonction(parametre1, parametre2):\n",
    "    \"\"\"\n",
    "    Description de la fonction.\n",
    "\n",
    "    :param parametre1: Description du paramètre 1.\n",
    "    :param parametre2: Description du paramètre 2.\n",
    "    :return: Description de la valeur de retour.\n",
    "    \"\"\"\n",
    "    # Instructions de la fonction\n",
    "```\n",
    "\n",
    "#### **Conclusion**\n",
    "\n",
    "Les fonctions sont un pilier de la programmation en Python. Elles permettent de diviser votre code en morceaux réutilisables, facilitant ainsi le développement, la maintenance et la compréhension du code. En maîtrisant la création et l'appel de fonctions, vous pourrez écrire des programmes Python plus efficaces et structurés.\n",
    "\n",
    "___"
   ]
  },
  {
   "cell_type": "markdown",
   "metadata": {},
   "source": [
    "\n",
    "## **Pour allez plus loin**\n",
    "\n",
    "En Python, une fonction est définie à l'aide du mot-clé `def`, suivi du nom de la fonction et de parenthèses contenant les paramètres (s'ils existent). Voici la structure générale :\n",
    "\n",
    "```python\n",
    "def nom_de_la_fonction(parametre1, parametre2, *args, **kwargs):\n",
    "    # Instructions de la fonction\n",
    "    return resultat  # (optionnel)\n",
    "```\n",
    "\n",
    "- `nom_de_la_fonction` : Le nom de la fonction, choisi par le programmeur.\n",
    "- `parametre1`, `parametre2`, ... : Les paramètres (arguments) que la fonction peut accepter. Ce sont les valeurs d'entrée que la fonction utilisera pour effectuer des calculs ou des opérations.\n",
    "- `*args` (arguments positionnels) : Permet de passer un nombre variable d'arguments positionnels non nommés à la fonction. Ils sont rassemblés sous forme de tuple.\n",
    "- `**kwargs` (arguments de mot-clé) : Permet de passer un nombre variable d'arguments nommés à la fonction. Ils sont rassemblés sous forme de dictionnaire.\n",
    "\n",
    "**Remarque :** Vous n'êtes pas obligé d'inclure `*args` ou `**kwargs` dans la définition de votre fonction. Ils sont optionnels et dépendent de vos besoins.\n",
    "\n",
    "#### **Exemple de Fonction avec \\*args et \\*\\*kwargs**\n",
    "\n",
    "Voici un exemple de fonction qui accepte des paramètres classiques, ainsi que `*args` et `**kwargs` :\n",
    "\n",
    "```python\n",
    "def fonction_complexe(parametre1, parametre2, *args, **kwargs):\n",
    "    resultat = parametre1 + parametre2\n",
    "    \n",
    "    for arg in args:\n",
    "        resultat += arg\n",
    "    \n",
    "    for cle, valeur in kwargs.items():\n",
    "        resultat += valeur\n",
    "    \n",
    "    return resultat\n",
    "```\n",
    "\n",
    "#### **Appel de Fonction avec \\*args et \\*\\*kwargs**\n",
    "\n",
    "\n",
    "Pour utiliser une fonction avec `*args` et `**kwargs`, vous pouvez les passer comme suit :\n",
    "\n",
    "```python\n",
    "resultat1 = fonction_complexe(1, 2)  # parametre1=1, parametre2=2\n",
    "resultat2 = fonction_complexe(1, 2, 3, 4, 5)  # parametre1=1, parametre2=2, args=(3, 4, 5)\n",
    "resultat3 = fonction_complexe(1, 2, a=10, b=20)  # parametre1=1, parametre2=2, kwargs={'a': 10, 'b': 20}\n",
    "```\n"
   ]
  },
  {
   "cell_type": "code",
   "execution_count": null,
   "metadata": {},
   "outputs": [],
   "source": [
    "def multiplication(*args, operation=\"multiplier\", **kwargs):\n",
    "    \"\"\"\n",
    "    Une fonction de multiplication qui prend en charge plusieurs opérations.\n",
    "\n",
    "    :param args: Liste des nombres à multiplier.\n",
    "    :param operation: Opération à effectuer (par défaut : \"multiplier\").\n",
    "    :param kwargs: Autres options d'opération.\n",
    "    :return: Le résultat de l'opération.\n",
    "    \"\"\"\n",
    "    if operation == \"multiplier\":\n",
    "        resultat = 1\n",
    "        for nombre in args:\n",
    "            resultat *= nombre\n",
    "        return resultat\n",
    "    elif operation == \"sommer\":\n",
    "        resultat = sum(args)\n",
    "        return resultat\n",
    "    elif operation == \"puissance\":\n",
    "        base = kwargs.get(\"base\", 2)\n",
    "        resultat = 1\n",
    "        for _ in range(args[0]):\n",
    "            resultat *= base\n",
    "        return resultat\n",
    "    else:\n",
    "        return \"Opération non prise en charge\"\n",
    "\n",
    "# Exemple d'utilisation de la fonction multiplication\n",
    "produit = multiplication(2, 3, 4)  # Multiplier : 2 * 3 * 4 = 24\n",
    "somme = multiplication(2, 3, 4, operation=\"sommer\")  # Sommer : 2 + 3 + 4 = 9\n",
    "puissance = multiplication(3, operation=\"puissance\", base=2)  # Puissance : 2^3 = 8\n",
    "\n",
    "print(\"Produit:\", produit)\n",
    "print(\"Somme:\", somme)\n",
    "print(\"Puissance:\", puissance)\n"
   ]
  },
  {
   "cell_type": "markdown",
   "metadata": {},
   "source": [
    "\n",
    "### **Les Classes en Python**\n",
    "\n",
    "Les classes sont un concept fondamental en programmation orientée objet (POO) qui permet de regrouper des données et des fonctions associées. En Python, les classes sont omniprésentes et constituent un élément essentiel de la programmation. Dans ce chapitre, nous allons explorer en profondeur les classes en Python, leur utilité et comment les utiliser efficacement.\n",
    "\n",
    "#### **Introduction aux Classes**\n",
    "\n",
    "Une classe est un modèle ou un plan pour créer des objets. Les objets sont des instances de classes. Les classes sont définies à l'aide du mot-clé `class`. Voici comment créer une classe de base en Python :\n",
    "\n",
    "```python\n",
    "class MaClasse:\n",
    "    pass\n",
    "```\n",
    "\n",
    "#### **Les Attributs de Classe**\n",
    "\n",
    "Les attributs de classe sont des variables partagées par toutes les instances d'une classe. Ils sont définis à l'intérieur de la classe, mais à l'extérieur de toute méthode. Voici un exemple :\n"
   ]
  },
  {
   "cell_type": "code",
   "execution_count": null,
   "metadata": {},
   "outputs": [],
   "source": [
    "class Voiture:\n",
    "    roues = 4  # C'est un attribut de classe partagé par toutes les voitures.\n",
    "\n",
    "# Utilisation de l'attribut de classe\n",
    "print(Voiture.roues)  # Affiche : 4"
   ]
  },
  {
   "cell_type": "markdown",
   "metadata": {},
   "source": [
    "#### **Méthodes de Classe**\n",
    "\n",
    "Les méthodes de classe sont des fonctions définies à l'intérieur d'une classe. Elles peuvent être appelées sur des instances de la classe ou directement sur la classe elle-même. Voici un exemple :"
   ]
  },
  {
   "cell_type": "code",
   "execution_count": null,
   "metadata": {},
   "outputs": [],
   "source": [
    "class Chien:\n",
    "    def aboyer(self):\n",
    "        print(\"Woof!\")\n",
    "\n",
    "# Création d'une instance de la classe Chien\n",
    "mon_chien = Chien()\n",
    "\n",
    "# Appel de la méthode sur l'instance\n",
    "mon_chien.aboyer()  # Affiche : Woof!\n",
    "\n",
    "# Appel de la méthode sur la classe\n",
    "Chien.aboyer(mon_chien)  # Affiche : Woof!"
   ]
  },
  {
   "cell_type": "markdown",
   "metadata": {},
   "source": [
    "#### **Le Constructeur (`__init__`)**\n",
    "\n",
    "Le constructeur est une méthode spéciale `__init__` qui est appelée lors de la création d'une nouvelle instance de classe. Il est utilisé pour initialiser les attributs de l'objet. Voici un exemple :\n"
   ]
  },
  {
   "cell_type": "code",
   "execution_count": null,
   "metadata": {},
   "outputs": [],
   "source": [
    "class Personne:\n",
    "    def __init__(self, nom, age):\n",
    "        self.nom = nom\n",
    "        self.age = age\n",
    "\n",
    "# Création d'une instance de la classe Personne\n",
    "une_personne = Personne(\"Alice\", 30)\n",
    "\n",
    "# Accès aux attributs\n",
    "print(une_personne.nom)  # Affiche : Alice\n",
    "print(une_personne.age)  # Affiche : 30"
   ]
  },
  {
   "cell_type": "markdown",
   "metadata": {},
   "source": [
    "#### **L'utilisation de `self`**\n",
    "\n",
    "`self` est un paramètre spécial utilisé dans les méthodes de classe pour faire référence à l'instance actuelle de la classe. Il est généralement le premier paramètre de chaque méthode de classe. Par exemple :"
   ]
  },
  {
   "cell_type": "code",
   "execution_count": null,
   "metadata": {},
   "outputs": [],
   "source": [
    "class CompteBancaire:\n",
    "    def __init__(self, solde):\n",
    "        self.solde = solde\n",
    "\n",
    "    def deposer(self, montant):\n",
    "        self.solde += montant\n",
    "\n",
    "# Création d'une instance de la classe CompteBancaire\n",
    "compte = CompteBancaire(1000)\n",
    "\n",
    "# Appel de la méthode deposer()\n",
    "compte.deposer(500)\n",
    "\n",
    "# Accès à l'attribut solde\n",
    "print(compte.solde)  # Affiche : 1500"
   ]
  },
  {
   "cell_type": "markdown",
   "metadata": {},
   "source": [
    "#### **Conclusion**\n",
    "\n",
    "Les classes en Python sont un concept puissant qui vous permet de créer des structures de données complexes et d'organiser votre code de manière plus modulaire. Comprendre les classes est essentiel pour devenir un développeur Python compétent.\n",
    "\n",
    "---"
   ]
  }
 ],
 "metadata": {
  "kernelspec": {
   "display_name": "TP_dosi",
   "language": "python",
   "name": "python3"
  },
  "language_info": {
   "codemirror_mode": {
    "name": "ipython",
    "version": 3
   },
   "file_extension": ".py",
   "mimetype": "text/x-python",
   "name": "python",
   "nbconvert_exporter": "python",
   "pygments_lexer": "ipython3",
   "version": "3.11.5"
  },
  "orig_nbformat": 4
 },
 "nbformat": 4,
 "nbformat_minor": 2
}
